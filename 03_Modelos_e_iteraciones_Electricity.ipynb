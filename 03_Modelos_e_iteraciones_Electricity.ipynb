{
  "nbformat": 4,
  "nbformat_minor": 0,
  "metadata": {
    "colab": {
      "provenance": [],
      "collapsed_sections": []
    },
    "kernelspec": {
      "name": "python3",
      "display_name": "Python 3"
    },
    "language_info": {
      "name": "python"
    }
  },
  "cells": [
    {
      "cell_type": "markdown",
      "source": [
        "<a href=\"https://githubtocolab.com/DanielSanma/ProyectoIntroIA/blob/03-Modelos-e-iteraciones-Electricity.ipynb\" target=\"_parent\"><img src=\"https://colab.research.google.com/assets/colab-badge.svg\" alt=\"Open in Colab\"/></a>"
      ],
      "metadata": {
        "id": "EtKExcgvdugs"
      }
    },
    {
      "cell_type": "code",
      "execution_count": 1,
      "metadata": {
        "colab": {
          "base_uri": "https://localhost:8080/",
          "height": 75
        },
        "id": "OCLRn8HSFyRd",
        "outputId": "2e656592-1005-465a-e49b-386be5ab8a04"
      },
      "outputs": [
        {
          "output_type": "display_data",
          "data": {
            "text/plain": [
              "<IPython.core.display.HTML object>"
            ],
            "text/html": [
              "\n",
              "<meta name=\"google-signin-client_id\"\n",
              "      content=\"461673936472-kdjosv61up3ac1ajeuq6qqu72upilmls.apps.googleusercontent.com\"/>\n",
              "<script src=\"https://apis.google.com/js/client:platform.js?onload=google_button_start\"></script>\n",
              "    "
            ]
          },
          "metadata": {}
        },
        {
          "output_type": "stream",
          "name": "stdout",
          "text": [
            "replicating local resources\n"
          ]
        },
        {
          "output_type": "execute_result",
          "data": {
            "text/plain": [
              "<IPython.core.display.HTML object>"
            ],
            "text/html": [
              "<h3>See <a href='https://m5knaekxo6.execute-api.us-west-2.amazonaws.com/dev-v0001/rlxmooc/web/login' target='_blank'>my courses and progress</a></h2>"
            ]
          },
          "metadata": {},
          "execution_count": 1
        }
      ],
      "source": [
        "!wget --no-cache -O init.py -q https://raw.githubusercontent.com/rramosp/ai4eng.v1/main/content/init.py\n",
        "import init; init.init(force_download=False); init.get_weblink()"
      ]
    },
    {
      "cell_type": "code",
      "source": [
        "import numpy as np\n",
        "import pandas as pd\n",
        "import seaborn as sns\n",
        "import matplotlib.pyplot as plt\n",
        "import missingno as msno\n",
        "#bibliotecas de machine learning\n",
        "from sklearn.linear_model import LinearRegression\n",
        "from sklearn.tree import DecisionTreeRegressor\n",
        "from sklearn.ensemble import RandomForestRegressor\n",
        "from sklearn.model_selection import cross_validate, ShuffleSplit\n",
        "\n",
        "from sklearn.model_selection import learning_curve\n",
        "from sklearn.metrics import mean_squared_error\n",
        "from sklearn.impute import SimpleImputer\n",
        "from sklearn.preprocessing import OneHotEncoder\n",
        "from sklearn.preprocessing import FunctionTransformer\n",
        "from sklearn.pipeline import Pipeline\n",
        "from sklearn.compose import ColumnTransformer\n",
        "from sklearn.preprocessing import LabelEncoder\n",
        "from sklearn import utils\n",
        "from sklearn import preprocessing\n",
        "from sklearn.model_selection import train_test_split,KFold,GroupKFold\n",
        "import lightgbm as lgb\n",
        "import gc\n",
        "\n",
        "\n",
        "import warnings\n",
        "warnings.filterwarnings('ignore')"
      ],
      "metadata": {
        "id": "3PGofCKEHg9N"
      },
      "execution_count": 2,
      "outputs": []
    },
    {
      "cell_type": "markdown",
      "source": [
        "**1. Lectura de los dataset**"
      ],
      "metadata": {
        "id": "0QciGbIzOa4f"
      }
    },
    {
      "cell_type": "code",
      "source": [
        "#Instalar kaggle\n",
        "!pip install kaggle"
      ],
      "metadata": {
        "colab": {
          "base_uri": "https://localhost:8080/"
        },
        "id": "BJiOIhy6Koly",
        "outputId": "88d050ad-e13a-4718-8fa4-e695ed26c6fb"
      },
      "execution_count": 3,
      "outputs": [
        {
          "output_type": "stream",
          "name": "stdout",
          "text": [
            "Looking in indexes: https://pypi.org/simple, https://us-python.pkg.dev/colab-wheels/public/simple/\n",
            "Requirement already satisfied: kaggle in /usr/local/lib/python3.7/dist-packages (1.5.12)\n",
            "Requirement already satisfied: urllib3 in /usr/local/lib/python3.7/dist-packages (from kaggle) (1.24.3)\n",
            "Requirement already satisfied: python-dateutil in /usr/local/lib/python3.7/dist-packages (from kaggle) (2.8.2)\n",
            "Requirement already satisfied: python-slugify in /usr/local/lib/python3.7/dist-packages (from kaggle) (6.1.2)\n",
            "Requirement already satisfied: six>=1.10 in /usr/local/lib/python3.7/dist-packages (from kaggle) (1.15.0)\n",
            "Requirement already satisfied: certifi in /usr/local/lib/python3.7/dist-packages (from kaggle) (2022.9.24)\n",
            "Requirement already satisfied: tqdm in /usr/local/lib/python3.7/dist-packages (from kaggle) (4.64.1)\n",
            "Requirement already satisfied: requests in /usr/local/lib/python3.7/dist-packages (from kaggle) (2.23.0)\n",
            "Requirement already satisfied: text-unidecode>=1.3 in /usr/local/lib/python3.7/dist-packages (from python-slugify->kaggle) (1.3)\n",
            "Requirement already satisfied: idna<3,>=2.5 in /usr/local/lib/python3.7/dist-packages (from requests->kaggle) (2.10)\n",
            "Requirement already satisfied: chardet<4,>=3.0.2 in /usr/local/lib/python3.7/dist-packages (from requests->kaggle) (3.0.4)\n"
          ]
        }
      ]
    },
    {
      "cell_type": "code",
      "source": [
        "import os\n",
        "os.environ['KAGGLE_CONFIG_DIR'] = '/content'"
      ],
      "metadata": {
        "id": "To2M_WhqZX4Y"
      },
      "execution_count": 4,
      "outputs": []
    },
    {
      "cell_type": "code",
      "source": [
        "#Cargar los datos\n",
        "!kaggle competitions download -c edsa-individual-electricity-shortfall-challenge"
      ],
      "metadata": {
        "colab": {
          "base_uri": "https://localhost:8080/"
        },
        "id": "RgF4sR67aLnE",
        "outputId": "a51cddfa-d11d-497c-f59a-109bb065682c"
      },
      "execution_count": 6,
      "outputs": [
        {
          "output_type": "stream",
          "name": "stdout",
          "text": [
            "Warning: Your Kaggle API key is readable by other users on this system! To fix this, you can run 'chmod 600 /content/kaggle.json'\n",
            "Downloading edsa-individual-electricity-shortfall-challenge.zip to /content\n",
            "  0% 0.00/986k [00:00<?, ?B/s]\n",
            "100% 986k/986k [00:00<00:00, 110MB/s]\n"
          ]
        }
      ]
    },
    {
      "cell_type": "code",
      "source": [
        "#Descomprimir el archivo zip que contiene los archivos csv\n",
        "!unzip \\*.zip && rm *.zip"
      ],
      "metadata": {
        "colab": {
          "base_uri": "https://localhost:8080/"
        },
        "id": "4gsKbN2-dNgZ",
        "outputId": "bf5fd9d0-c621-459a-ddc3-6cb49dc2a68c"
      },
      "execution_count": 7,
      "outputs": [
        {
          "output_type": "stream",
          "name": "stdout",
          "text": [
            "Archive:  edsa-individual-electricity-shortfall-challenge.zip\n",
            "  inflating: df_test.csv             \n",
            "  inflating: df_train.csv            \n",
            "  inflating: sample_submission_load_shortfall (1).csv  \n"
          ]
        }
      ]
    },
    {
      "cell_type": "code",
      "source": [
        "df = pd.read_csv('df_train.csv')\n",
        "df"
      ],
      "metadata": {
        "colab": {
          "base_uri": "https://localhost:8080/",
          "height": 852
        },
        "id": "nwq9YfdzbvS5",
        "outputId": "34a8b5b9-45f8-4b4d-edd6-b9770a0dbd43"
      },
      "execution_count": 8,
      "outputs": [
        {
          "output_type": "execute_result",
          "data": {
            "text/plain": [
              "      Unnamed: 0                 time  Madrid_wind_speed Valencia_wind_deg  \\\n",
              "0              0  2015-01-01 03:00:00           0.666667           level_5   \n",
              "1              1  2015-01-01 06:00:00           0.333333          level_10   \n",
              "2              2  2015-01-01 09:00:00           1.000000           level_9   \n",
              "3              3  2015-01-01 12:00:00           1.000000           level_8   \n",
              "4              4  2015-01-01 15:00:00           1.000000           level_7   \n",
              "...          ...                  ...                ...               ...   \n",
              "8758        8758  2017-12-31 09:00:00           1.000000           level_6   \n",
              "8759        8759  2017-12-31 12:00:00           5.000000           level_6   \n",
              "8760        8760  2017-12-31 15:00:00           6.333333           level_9   \n",
              "8761        8761  2017-12-31 18:00:00           7.333333           level_8   \n",
              "8762        8762  2017-12-31 21:00:00           4.333333           level_9   \n",
              "\n",
              "      Bilbao_rain_1h  Valencia_wind_speed  Seville_humidity  Madrid_humidity  \\\n",
              "0                0.0             0.666667         74.333333        64.000000   \n",
              "1                0.0             1.666667         78.333333        64.666667   \n",
              "2                0.0             1.000000         71.333333        64.333333   \n",
              "3                0.0             1.000000         65.333333        56.333333   \n",
              "4                0.0             1.000000         59.000000        57.000000   \n",
              "...              ...                  ...               ...              ...   \n",
              "8758             0.0             2.666667         89.000000        95.666667   \n",
              "8759             0.0             2.000000         82.000000        85.000000   \n",
              "8760             0.4             7.333333         67.666667        71.000000   \n",
              "8761             0.2             7.333333         67.666667        79.000000   \n",
              "8762             0.0             7.000000         78.666667        68.666667   \n",
              "\n",
              "      Bilbao_clouds_all  Bilbao_wind_speed  ...  Madrid_temp_max  \\\n",
              "0              0.000000           1.000000  ...       265.938000   \n",
              "1              0.000000           1.000000  ...       266.386667   \n",
              "2              0.000000           1.000000  ...       272.708667   \n",
              "3              0.000000           1.000000  ...       281.895219   \n",
              "4              2.000000           0.333333  ...       280.678437   \n",
              "...                 ...                ...  ...              ...   \n",
              "8758          56.666667           4.333333  ...       280.816667   \n",
              "8759          26.666667           8.000000  ...       283.483333   \n",
              "8760          63.333333           8.333333  ...       285.150000   \n",
              "8761          63.333333           2.666667  ...       283.483333   \n",
              "8762          20.000000           1.666667  ...       282.150000   \n",
              "\n",
              "      Barcelona_temp  Bilbao_temp_min  Bilbao_temp  Barcelona_temp_min  \\\n",
              "0         281.013000       269.338615   269.338615          281.013000   \n",
              "1         280.561667       270.376000   270.376000          280.561667   \n",
              "2         281.583667       275.027229   275.027229          281.583667   \n",
              "3         283.434104       281.135063   281.135063          283.434104   \n",
              "4         284.213167       282.252063   282.252063          284.213167   \n",
              "...              ...              ...          ...                 ...   \n",
              "8758      281.276667       285.150000   287.573333          280.483333   \n",
              "8759      287.483333       286.483333   288.616667          287.150000   \n",
              "8760      289.816667       283.816667   285.330000          289.150000   \n",
              "8761      287.523333       278.816667   281.410000          286.816667   \n",
              "8762      287.483333       276.816667   281.020000          287.150000   \n",
              "\n",
              "      Bilbao_temp_max  Seville_temp_min Madrid_temp  Madrid_temp_min  \\\n",
              "0          269.338615        274.254667  265.938000       265.938000   \n",
              "1          270.376000        274.945000  266.386667       266.386667   \n",
              "2          275.027229        278.792000  272.708667       272.708667   \n",
              "3          281.135063        285.394000  281.895219       281.895219   \n",
              "4          282.252063        285.513719  280.678437       280.678437   \n",
              "...               ...               ...         ...              ...   \n",
              "8758       290.150000        284.816667  279.686667       278.483333   \n",
              "8759       291.150000        287.150000  282.400000       280.150000   \n",
              "8760       286.816667        289.150000  283.956667       281.150000   \n",
              "8761       284.150000        289.150000  282.666667       280.816667   \n",
              "8762       285.150000        287.483333  281.396667       280.483333   \n",
              "\n",
              "      load_shortfall_3h  \n",
              "0           6715.666667  \n",
              "1           4171.666667  \n",
              "2           4274.666667  \n",
              "3           5075.666667  \n",
              "4           6620.666667  \n",
              "...                 ...  \n",
              "8758         -28.333333  \n",
              "8759        2266.666667  \n",
              "8760         822.000000  \n",
              "8761        -760.000000  \n",
              "8762        2780.666667  \n",
              "\n",
              "[8763 rows x 49 columns]"
            ],
            "text/html": [
              "\n",
              "  <div id=\"df-852d9ecc-bc6b-4aad-956e-7b04d784e543\">\n",
              "    <div class=\"colab-df-container\">\n",
              "      <div>\n",
              "<style scoped>\n",
              "    .dataframe tbody tr th:only-of-type {\n",
              "        vertical-align: middle;\n",
              "    }\n",
              "\n",
              "    .dataframe tbody tr th {\n",
              "        vertical-align: top;\n",
              "    }\n",
              "\n",
              "    .dataframe thead th {\n",
              "        text-align: right;\n",
              "    }\n",
              "</style>\n",
              "<table border=\"1\" class=\"dataframe\">\n",
              "  <thead>\n",
              "    <tr style=\"text-align: right;\">\n",
              "      <th></th>\n",
              "      <th>Unnamed: 0</th>\n",
              "      <th>time</th>\n",
              "      <th>Madrid_wind_speed</th>\n",
              "      <th>Valencia_wind_deg</th>\n",
              "      <th>Bilbao_rain_1h</th>\n",
              "      <th>Valencia_wind_speed</th>\n",
              "      <th>Seville_humidity</th>\n",
              "      <th>Madrid_humidity</th>\n",
              "      <th>Bilbao_clouds_all</th>\n",
              "      <th>Bilbao_wind_speed</th>\n",
              "      <th>...</th>\n",
              "      <th>Madrid_temp_max</th>\n",
              "      <th>Barcelona_temp</th>\n",
              "      <th>Bilbao_temp_min</th>\n",
              "      <th>Bilbao_temp</th>\n",
              "      <th>Barcelona_temp_min</th>\n",
              "      <th>Bilbao_temp_max</th>\n",
              "      <th>Seville_temp_min</th>\n",
              "      <th>Madrid_temp</th>\n",
              "      <th>Madrid_temp_min</th>\n",
              "      <th>load_shortfall_3h</th>\n",
              "    </tr>\n",
              "  </thead>\n",
              "  <tbody>\n",
              "    <tr>\n",
              "      <th>0</th>\n",
              "      <td>0</td>\n",
              "      <td>2015-01-01 03:00:00</td>\n",
              "      <td>0.666667</td>\n",
              "      <td>level_5</td>\n",
              "      <td>0.0</td>\n",
              "      <td>0.666667</td>\n",
              "      <td>74.333333</td>\n",
              "      <td>64.000000</td>\n",
              "      <td>0.000000</td>\n",
              "      <td>1.000000</td>\n",
              "      <td>...</td>\n",
              "      <td>265.938000</td>\n",
              "      <td>281.013000</td>\n",
              "      <td>269.338615</td>\n",
              "      <td>269.338615</td>\n",
              "      <td>281.013000</td>\n",
              "      <td>269.338615</td>\n",
              "      <td>274.254667</td>\n",
              "      <td>265.938000</td>\n",
              "      <td>265.938000</td>\n",
              "      <td>6715.666667</td>\n",
              "    </tr>\n",
              "    <tr>\n",
              "      <th>1</th>\n",
              "      <td>1</td>\n",
              "      <td>2015-01-01 06:00:00</td>\n",
              "      <td>0.333333</td>\n",
              "      <td>level_10</td>\n",
              "      <td>0.0</td>\n",
              "      <td>1.666667</td>\n",
              "      <td>78.333333</td>\n",
              "      <td>64.666667</td>\n",
              "      <td>0.000000</td>\n",
              "      <td>1.000000</td>\n",
              "      <td>...</td>\n",
              "      <td>266.386667</td>\n",
              "      <td>280.561667</td>\n",
              "      <td>270.376000</td>\n",
              "      <td>270.376000</td>\n",
              "      <td>280.561667</td>\n",
              "      <td>270.376000</td>\n",
              "      <td>274.945000</td>\n",
              "      <td>266.386667</td>\n",
              "      <td>266.386667</td>\n",
              "      <td>4171.666667</td>\n",
              "    </tr>\n",
              "    <tr>\n",
              "      <th>2</th>\n",
              "      <td>2</td>\n",
              "      <td>2015-01-01 09:00:00</td>\n",
              "      <td>1.000000</td>\n",
              "      <td>level_9</td>\n",
              "      <td>0.0</td>\n",
              "      <td>1.000000</td>\n",
              "      <td>71.333333</td>\n",
              "      <td>64.333333</td>\n",
              "      <td>0.000000</td>\n",
              "      <td>1.000000</td>\n",
              "      <td>...</td>\n",
              "      <td>272.708667</td>\n",
              "      <td>281.583667</td>\n",
              "      <td>275.027229</td>\n",
              "      <td>275.027229</td>\n",
              "      <td>281.583667</td>\n",
              "      <td>275.027229</td>\n",
              "      <td>278.792000</td>\n",
              "      <td>272.708667</td>\n",
              "      <td>272.708667</td>\n",
              "      <td>4274.666667</td>\n",
              "    </tr>\n",
              "    <tr>\n",
              "      <th>3</th>\n",
              "      <td>3</td>\n",
              "      <td>2015-01-01 12:00:00</td>\n",
              "      <td>1.000000</td>\n",
              "      <td>level_8</td>\n",
              "      <td>0.0</td>\n",
              "      <td>1.000000</td>\n",
              "      <td>65.333333</td>\n",
              "      <td>56.333333</td>\n",
              "      <td>0.000000</td>\n",
              "      <td>1.000000</td>\n",
              "      <td>...</td>\n",
              "      <td>281.895219</td>\n",
              "      <td>283.434104</td>\n",
              "      <td>281.135063</td>\n",
              "      <td>281.135063</td>\n",
              "      <td>283.434104</td>\n",
              "      <td>281.135063</td>\n",
              "      <td>285.394000</td>\n",
              "      <td>281.895219</td>\n",
              "      <td>281.895219</td>\n",
              "      <td>5075.666667</td>\n",
              "    </tr>\n",
              "    <tr>\n",
              "      <th>4</th>\n",
              "      <td>4</td>\n",
              "      <td>2015-01-01 15:00:00</td>\n",
              "      <td>1.000000</td>\n",
              "      <td>level_7</td>\n",
              "      <td>0.0</td>\n",
              "      <td>1.000000</td>\n",
              "      <td>59.000000</td>\n",
              "      <td>57.000000</td>\n",
              "      <td>2.000000</td>\n",
              "      <td>0.333333</td>\n",
              "      <td>...</td>\n",
              "      <td>280.678437</td>\n",
              "      <td>284.213167</td>\n",
              "      <td>282.252063</td>\n",
              "      <td>282.252063</td>\n",
              "      <td>284.213167</td>\n",
              "      <td>282.252063</td>\n",
              "      <td>285.513719</td>\n",
              "      <td>280.678437</td>\n",
              "      <td>280.678437</td>\n",
              "      <td>6620.666667</td>\n",
              "    </tr>\n",
              "    <tr>\n",
              "      <th>...</th>\n",
              "      <td>...</td>\n",
              "      <td>...</td>\n",
              "      <td>...</td>\n",
              "      <td>...</td>\n",
              "      <td>...</td>\n",
              "      <td>...</td>\n",
              "      <td>...</td>\n",
              "      <td>...</td>\n",
              "      <td>...</td>\n",
              "      <td>...</td>\n",
              "      <td>...</td>\n",
              "      <td>...</td>\n",
              "      <td>...</td>\n",
              "      <td>...</td>\n",
              "      <td>...</td>\n",
              "      <td>...</td>\n",
              "      <td>...</td>\n",
              "      <td>...</td>\n",
              "      <td>...</td>\n",
              "      <td>...</td>\n",
              "      <td>...</td>\n",
              "    </tr>\n",
              "    <tr>\n",
              "      <th>8758</th>\n",
              "      <td>8758</td>\n",
              "      <td>2017-12-31 09:00:00</td>\n",
              "      <td>1.000000</td>\n",
              "      <td>level_6</td>\n",
              "      <td>0.0</td>\n",
              "      <td>2.666667</td>\n",
              "      <td>89.000000</td>\n",
              "      <td>95.666667</td>\n",
              "      <td>56.666667</td>\n",
              "      <td>4.333333</td>\n",
              "      <td>...</td>\n",
              "      <td>280.816667</td>\n",
              "      <td>281.276667</td>\n",
              "      <td>285.150000</td>\n",
              "      <td>287.573333</td>\n",
              "      <td>280.483333</td>\n",
              "      <td>290.150000</td>\n",
              "      <td>284.816667</td>\n",
              "      <td>279.686667</td>\n",
              "      <td>278.483333</td>\n",
              "      <td>-28.333333</td>\n",
              "    </tr>\n",
              "    <tr>\n",
              "      <th>8759</th>\n",
              "      <td>8759</td>\n",
              "      <td>2017-12-31 12:00:00</td>\n",
              "      <td>5.000000</td>\n",
              "      <td>level_6</td>\n",
              "      <td>0.0</td>\n",
              "      <td>2.000000</td>\n",
              "      <td>82.000000</td>\n",
              "      <td>85.000000</td>\n",
              "      <td>26.666667</td>\n",
              "      <td>8.000000</td>\n",
              "      <td>...</td>\n",
              "      <td>283.483333</td>\n",
              "      <td>287.483333</td>\n",
              "      <td>286.483333</td>\n",
              "      <td>288.616667</td>\n",
              "      <td>287.150000</td>\n",
              "      <td>291.150000</td>\n",
              "      <td>287.150000</td>\n",
              "      <td>282.400000</td>\n",
              "      <td>280.150000</td>\n",
              "      <td>2266.666667</td>\n",
              "    </tr>\n",
              "    <tr>\n",
              "      <th>8760</th>\n",
              "      <td>8760</td>\n",
              "      <td>2017-12-31 15:00:00</td>\n",
              "      <td>6.333333</td>\n",
              "      <td>level_9</td>\n",
              "      <td>0.4</td>\n",
              "      <td>7.333333</td>\n",
              "      <td>67.666667</td>\n",
              "      <td>71.000000</td>\n",
              "      <td>63.333333</td>\n",
              "      <td>8.333333</td>\n",
              "      <td>...</td>\n",
              "      <td>285.150000</td>\n",
              "      <td>289.816667</td>\n",
              "      <td>283.816667</td>\n",
              "      <td>285.330000</td>\n",
              "      <td>289.150000</td>\n",
              "      <td>286.816667</td>\n",
              "      <td>289.150000</td>\n",
              "      <td>283.956667</td>\n",
              "      <td>281.150000</td>\n",
              "      <td>822.000000</td>\n",
              "    </tr>\n",
              "    <tr>\n",
              "      <th>8761</th>\n",
              "      <td>8761</td>\n",
              "      <td>2017-12-31 18:00:00</td>\n",
              "      <td>7.333333</td>\n",
              "      <td>level_8</td>\n",
              "      <td>0.2</td>\n",
              "      <td>7.333333</td>\n",
              "      <td>67.666667</td>\n",
              "      <td>79.000000</td>\n",
              "      <td>63.333333</td>\n",
              "      <td>2.666667</td>\n",
              "      <td>...</td>\n",
              "      <td>283.483333</td>\n",
              "      <td>287.523333</td>\n",
              "      <td>278.816667</td>\n",
              "      <td>281.410000</td>\n",
              "      <td>286.816667</td>\n",
              "      <td>284.150000</td>\n",
              "      <td>289.150000</td>\n",
              "      <td>282.666667</td>\n",
              "      <td>280.816667</td>\n",
              "      <td>-760.000000</td>\n",
              "    </tr>\n",
              "    <tr>\n",
              "      <th>8762</th>\n",
              "      <td>8762</td>\n",
              "      <td>2017-12-31 21:00:00</td>\n",
              "      <td>4.333333</td>\n",
              "      <td>level_9</td>\n",
              "      <td>0.0</td>\n",
              "      <td>7.000000</td>\n",
              "      <td>78.666667</td>\n",
              "      <td>68.666667</td>\n",
              "      <td>20.000000</td>\n",
              "      <td>1.666667</td>\n",
              "      <td>...</td>\n",
              "      <td>282.150000</td>\n",
              "      <td>287.483333</td>\n",
              "      <td>276.816667</td>\n",
              "      <td>281.020000</td>\n",
              "      <td>287.150000</td>\n",
              "      <td>285.150000</td>\n",
              "      <td>287.483333</td>\n",
              "      <td>281.396667</td>\n",
              "      <td>280.483333</td>\n",
              "      <td>2780.666667</td>\n",
              "    </tr>\n",
              "  </tbody>\n",
              "</table>\n",
              "<p>8763 rows × 49 columns</p>\n",
              "</div>\n",
              "      <button class=\"colab-df-convert\" onclick=\"convertToInteractive('df-852d9ecc-bc6b-4aad-956e-7b04d784e543')\"\n",
              "              title=\"Convert this dataframe to an interactive table.\"\n",
              "              style=\"display:none;\">\n",
              "        \n",
              "  <svg xmlns=\"http://www.w3.org/2000/svg\" height=\"24px\"viewBox=\"0 0 24 24\"\n",
              "       width=\"24px\">\n",
              "    <path d=\"M0 0h24v24H0V0z\" fill=\"none\"/>\n",
              "    <path d=\"M18.56 5.44l.94 2.06.94-2.06 2.06-.94-2.06-.94-.94-2.06-.94 2.06-2.06.94zm-11 1L8.5 8.5l.94-2.06 2.06-.94-2.06-.94L8.5 2.5l-.94 2.06-2.06.94zm10 10l.94 2.06.94-2.06 2.06-.94-2.06-.94-.94-2.06-.94 2.06-2.06.94z\"/><path d=\"M17.41 7.96l-1.37-1.37c-.4-.4-.92-.59-1.43-.59-.52 0-1.04.2-1.43.59L10.3 9.45l-7.72 7.72c-.78.78-.78 2.05 0 2.83L4 21.41c.39.39.9.59 1.41.59.51 0 1.02-.2 1.41-.59l7.78-7.78 2.81-2.81c.8-.78.8-2.07 0-2.86zM5.41 20L4 18.59l7.72-7.72 1.47 1.35L5.41 20z\"/>\n",
              "  </svg>\n",
              "      </button>\n",
              "      \n",
              "  <style>\n",
              "    .colab-df-container {\n",
              "      display:flex;\n",
              "      flex-wrap:wrap;\n",
              "      gap: 12px;\n",
              "    }\n",
              "\n",
              "    .colab-df-convert {\n",
              "      background-color: #E8F0FE;\n",
              "      border: none;\n",
              "      border-radius: 50%;\n",
              "      cursor: pointer;\n",
              "      display: none;\n",
              "      fill: #1967D2;\n",
              "      height: 32px;\n",
              "      padding: 0 0 0 0;\n",
              "      width: 32px;\n",
              "    }\n",
              "\n",
              "    .colab-df-convert:hover {\n",
              "      background-color: #E2EBFA;\n",
              "      box-shadow: 0px 1px 2px rgba(60, 64, 67, 0.3), 0px 1px 3px 1px rgba(60, 64, 67, 0.15);\n",
              "      fill: #174EA6;\n",
              "    }\n",
              "\n",
              "    [theme=dark] .colab-df-convert {\n",
              "      background-color: #3B4455;\n",
              "      fill: #D2E3FC;\n",
              "    }\n",
              "\n",
              "    [theme=dark] .colab-df-convert:hover {\n",
              "      background-color: #434B5C;\n",
              "      box-shadow: 0px 1px 3px 1px rgba(0, 0, 0, 0.15);\n",
              "      filter: drop-shadow(0px 1px 2px rgba(0, 0, 0, 0.3));\n",
              "      fill: #FFFFFF;\n",
              "    }\n",
              "  </style>\n",
              "\n",
              "      <script>\n",
              "        const buttonEl =\n",
              "          document.querySelector('#df-852d9ecc-bc6b-4aad-956e-7b04d784e543 button.colab-df-convert');\n",
              "        buttonEl.style.display =\n",
              "          google.colab.kernel.accessAllowed ? 'block' : 'none';\n",
              "\n",
              "        async function convertToInteractive(key) {\n",
              "          const element = document.querySelector('#df-852d9ecc-bc6b-4aad-956e-7b04d784e543');\n",
              "          const dataTable =\n",
              "            await google.colab.kernel.invokeFunction('convertToInteractive',\n",
              "                                                     [key], {});\n",
              "          if (!dataTable) return;\n",
              "\n",
              "          const docLinkHtml = 'Like what you see? Visit the ' +\n",
              "            '<a target=\"_blank\" href=https://colab.research.google.com/notebooks/data_table.ipynb>data table notebook</a>'\n",
              "            + ' to learn more about interactive tables.';\n",
              "          element.innerHTML = '';\n",
              "          dataTable['output_type'] = 'display_data';\n",
              "          await google.colab.output.renderOutput(dataTable, element);\n",
              "          const docLink = document.createElement('div');\n",
              "          docLink.innerHTML = docLinkHtml;\n",
              "          element.appendChild(docLink);\n",
              "        }\n",
              "      </script>\n",
              "    </div>\n",
              "  </div>\n",
              "  "
            ]
          },
          "metadata": {},
          "execution_count": 8
        }
      ]
    },
    {
      "cell_type": "code",
      "source": [
        "df.head()"
      ],
      "metadata": {
        "colab": {
          "base_uri": "https://localhost:8080/",
          "height": 490
        },
        "id": "efKvbISDa5Fy",
        "outputId": "bfd1e84e-0b82-4b9f-d2a2-0d09a7299ea3"
      },
      "execution_count": 26,
      "outputs": [
        {
          "output_type": "execute_result",
          "data": {
            "text/plain": [
              "   Unnamed: 0                 time  Madrid_wind_speed Valencia_wind_deg  \\\n",
              "0           0  2015-01-01 03:00:00           0.666667           level_5   \n",
              "1           1  2015-01-01 06:00:00           0.333333          level_10   \n",
              "2           2  2015-01-01 09:00:00           1.000000           level_9   \n",
              "3           3  2015-01-01 12:00:00           1.000000           level_8   \n",
              "4           4  2015-01-01 15:00:00           1.000000           level_7   \n",
              "\n",
              "   Bilbao_rain_1h  Valencia_wind_speed  Seville_humidity  Madrid_humidity  \\\n",
              "0             0.0             0.666667         74.333333        64.000000   \n",
              "1             0.0             1.666667         78.333333        64.666667   \n",
              "2             0.0             1.000000         71.333333        64.333333   \n",
              "3             0.0             1.000000         65.333333        56.333333   \n",
              "4             0.0             1.000000         59.000000        57.000000   \n",
              "\n",
              "   Bilbao_clouds_all  Bilbao_wind_speed  ...  Madrid_temp_max  Barcelona_temp  \\\n",
              "0                0.0           1.000000  ...       265.938000      281.013000   \n",
              "1                0.0           1.000000  ...       266.386667      280.561667   \n",
              "2                0.0           1.000000  ...       272.708667      281.583667   \n",
              "3                0.0           1.000000  ...       281.895219      283.434104   \n",
              "4                2.0           0.333333  ...       280.678437      284.213167   \n",
              "\n",
              "   Bilbao_temp_min  Bilbao_temp  Barcelona_temp_min  Bilbao_temp_max  \\\n",
              "0       269.338615   269.338615          281.013000       269.338615   \n",
              "1       270.376000   270.376000          280.561667       270.376000   \n",
              "2       275.027229   275.027229          281.583667       275.027229   \n",
              "3       281.135063   281.135063          283.434104       281.135063   \n",
              "4       282.252063   282.252063          284.213167       282.252063   \n",
              "\n",
              "   Seville_temp_min Madrid_temp  Madrid_temp_min  load_shortfall_3h  \n",
              "0        274.254667  265.938000       265.938000        6715.666667  \n",
              "1        274.945000  266.386667       266.386667        4171.666667  \n",
              "2        278.792000  272.708667       272.708667        4274.666667  \n",
              "3        285.394000  281.895219       281.895219        5075.666667  \n",
              "4        285.513719  280.678437       280.678437        6620.666667  \n",
              "\n",
              "[5 rows x 49 columns]"
            ],
            "text/html": [
              "\n",
              "  <div id=\"df-148ff785-9b40-43fd-824c-d33a0f86f5d3\">\n",
              "    <div class=\"colab-df-container\">\n",
              "      <div>\n",
              "<style scoped>\n",
              "    .dataframe tbody tr th:only-of-type {\n",
              "        vertical-align: middle;\n",
              "    }\n",
              "\n",
              "    .dataframe tbody tr th {\n",
              "        vertical-align: top;\n",
              "    }\n",
              "\n",
              "    .dataframe thead th {\n",
              "        text-align: right;\n",
              "    }\n",
              "</style>\n",
              "<table border=\"1\" class=\"dataframe\">\n",
              "  <thead>\n",
              "    <tr style=\"text-align: right;\">\n",
              "      <th></th>\n",
              "      <th>Unnamed: 0</th>\n",
              "      <th>time</th>\n",
              "      <th>Madrid_wind_speed</th>\n",
              "      <th>Valencia_wind_deg</th>\n",
              "      <th>Bilbao_rain_1h</th>\n",
              "      <th>Valencia_wind_speed</th>\n",
              "      <th>Seville_humidity</th>\n",
              "      <th>Madrid_humidity</th>\n",
              "      <th>Bilbao_clouds_all</th>\n",
              "      <th>Bilbao_wind_speed</th>\n",
              "      <th>...</th>\n",
              "      <th>Madrid_temp_max</th>\n",
              "      <th>Barcelona_temp</th>\n",
              "      <th>Bilbao_temp_min</th>\n",
              "      <th>Bilbao_temp</th>\n",
              "      <th>Barcelona_temp_min</th>\n",
              "      <th>Bilbao_temp_max</th>\n",
              "      <th>Seville_temp_min</th>\n",
              "      <th>Madrid_temp</th>\n",
              "      <th>Madrid_temp_min</th>\n",
              "      <th>load_shortfall_3h</th>\n",
              "    </tr>\n",
              "  </thead>\n",
              "  <tbody>\n",
              "    <tr>\n",
              "      <th>0</th>\n",
              "      <td>0</td>\n",
              "      <td>2015-01-01 03:00:00</td>\n",
              "      <td>0.666667</td>\n",
              "      <td>level_5</td>\n",
              "      <td>0.0</td>\n",
              "      <td>0.666667</td>\n",
              "      <td>74.333333</td>\n",
              "      <td>64.000000</td>\n",
              "      <td>0.0</td>\n",
              "      <td>1.000000</td>\n",
              "      <td>...</td>\n",
              "      <td>265.938000</td>\n",
              "      <td>281.013000</td>\n",
              "      <td>269.338615</td>\n",
              "      <td>269.338615</td>\n",
              "      <td>281.013000</td>\n",
              "      <td>269.338615</td>\n",
              "      <td>274.254667</td>\n",
              "      <td>265.938000</td>\n",
              "      <td>265.938000</td>\n",
              "      <td>6715.666667</td>\n",
              "    </tr>\n",
              "    <tr>\n",
              "      <th>1</th>\n",
              "      <td>1</td>\n",
              "      <td>2015-01-01 06:00:00</td>\n",
              "      <td>0.333333</td>\n",
              "      <td>level_10</td>\n",
              "      <td>0.0</td>\n",
              "      <td>1.666667</td>\n",
              "      <td>78.333333</td>\n",
              "      <td>64.666667</td>\n",
              "      <td>0.0</td>\n",
              "      <td>1.000000</td>\n",
              "      <td>...</td>\n",
              "      <td>266.386667</td>\n",
              "      <td>280.561667</td>\n",
              "      <td>270.376000</td>\n",
              "      <td>270.376000</td>\n",
              "      <td>280.561667</td>\n",
              "      <td>270.376000</td>\n",
              "      <td>274.945000</td>\n",
              "      <td>266.386667</td>\n",
              "      <td>266.386667</td>\n",
              "      <td>4171.666667</td>\n",
              "    </tr>\n",
              "    <tr>\n",
              "      <th>2</th>\n",
              "      <td>2</td>\n",
              "      <td>2015-01-01 09:00:00</td>\n",
              "      <td>1.000000</td>\n",
              "      <td>level_9</td>\n",
              "      <td>0.0</td>\n",
              "      <td>1.000000</td>\n",
              "      <td>71.333333</td>\n",
              "      <td>64.333333</td>\n",
              "      <td>0.0</td>\n",
              "      <td>1.000000</td>\n",
              "      <td>...</td>\n",
              "      <td>272.708667</td>\n",
              "      <td>281.583667</td>\n",
              "      <td>275.027229</td>\n",
              "      <td>275.027229</td>\n",
              "      <td>281.583667</td>\n",
              "      <td>275.027229</td>\n",
              "      <td>278.792000</td>\n",
              "      <td>272.708667</td>\n",
              "      <td>272.708667</td>\n",
              "      <td>4274.666667</td>\n",
              "    </tr>\n",
              "    <tr>\n",
              "      <th>3</th>\n",
              "      <td>3</td>\n",
              "      <td>2015-01-01 12:00:00</td>\n",
              "      <td>1.000000</td>\n",
              "      <td>level_8</td>\n",
              "      <td>0.0</td>\n",
              "      <td>1.000000</td>\n",
              "      <td>65.333333</td>\n",
              "      <td>56.333333</td>\n",
              "      <td>0.0</td>\n",
              "      <td>1.000000</td>\n",
              "      <td>...</td>\n",
              "      <td>281.895219</td>\n",
              "      <td>283.434104</td>\n",
              "      <td>281.135063</td>\n",
              "      <td>281.135063</td>\n",
              "      <td>283.434104</td>\n",
              "      <td>281.135063</td>\n",
              "      <td>285.394000</td>\n",
              "      <td>281.895219</td>\n",
              "      <td>281.895219</td>\n",
              "      <td>5075.666667</td>\n",
              "    </tr>\n",
              "    <tr>\n",
              "      <th>4</th>\n",
              "      <td>4</td>\n",
              "      <td>2015-01-01 15:00:00</td>\n",
              "      <td>1.000000</td>\n",
              "      <td>level_7</td>\n",
              "      <td>0.0</td>\n",
              "      <td>1.000000</td>\n",
              "      <td>59.000000</td>\n",
              "      <td>57.000000</td>\n",
              "      <td>2.0</td>\n",
              "      <td>0.333333</td>\n",
              "      <td>...</td>\n",
              "      <td>280.678437</td>\n",
              "      <td>284.213167</td>\n",
              "      <td>282.252063</td>\n",
              "      <td>282.252063</td>\n",
              "      <td>284.213167</td>\n",
              "      <td>282.252063</td>\n",
              "      <td>285.513719</td>\n",
              "      <td>280.678437</td>\n",
              "      <td>280.678437</td>\n",
              "      <td>6620.666667</td>\n",
              "    </tr>\n",
              "  </tbody>\n",
              "</table>\n",
              "<p>5 rows × 49 columns</p>\n",
              "</div>\n",
              "      <button class=\"colab-df-convert\" onclick=\"convertToInteractive('df-148ff785-9b40-43fd-824c-d33a0f86f5d3')\"\n",
              "              title=\"Convert this dataframe to an interactive table.\"\n",
              "              style=\"display:none;\">\n",
              "        \n",
              "  <svg xmlns=\"http://www.w3.org/2000/svg\" height=\"24px\"viewBox=\"0 0 24 24\"\n",
              "       width=\"24px\">\n",
              "    <path d=\"M0 0h24v24H0V0z\" fill=\"none\"/>\n",
              "    <path d=\"M18.56 5.44l.94 2.06.94-2.06 2.06-.94-2.06-.94-.94-2.06-.94 2.06-2.06.94zm-11 1L8.5 8.5l.94-2.06 2.06-.94-2.06-.94L8.5 2.5l-.94 2.06-2.06.94zm10 10l.94 2.06.94-2.06 2.06-.94-2.06-.94-.94-2.06-.94 2.06-2.06.94z\"/><path d=\"M17.41 7.96l-1.37-1.37c-.4-.4-.92-.59-1.43-.59-.52 0-1.04.2-1.43.59L10.3 9.45l-7.72 7.72c-.78.78-.78 2.05 0 2.83L4 21.41c.39.39.9.59 1.41.59.51 0 1.02-.2 1.41-.59l7.78-7.78 2.81-2.81c.8-.78.8-2.07 0-2.86zM5.41 20L4 18.59l7.72-7.72 1.47 1.35L5.41 20z\"/>\n",
              "  </svg>\n",
              "      </button>\n",
              "      \n",
              "  <style>\n",
              "    .colab-df-container {\n",
              "      display:flex;\n",
              "      flex-wrap:wrap;\n",
              "      gap: 12px;\n",
              "    }\n",
              "\n",
              "    .colab-df-convert {\n",
              "      background-color: #E8F0FE;\n",
              "      border: none;\n",
              "      border-radius: 50%;\n",
              "      cursor: pointer;\n",
              "      display: none;\n",
              "      fill: #1967D2;\n",
              "      height: 32px;\n",
              "      padding: 0 0 0 0;\n",
              "      width: 32px;\n",
              "    }\n",
              "\n",
              "    .colab-df-convert:hover {\n",
              "      background-color: #E2EBFA;\n",
              "      box-shadow: 0px 1px 2px rgba(60, 64, 67, 0.3), 0px 1px 3px 1px rgba(60, 64, 67, 0.15);\n",
              "      fill: #174EA6;\n",
              "    }\n",
              "\n",
              "    [theme=dark] .colab-df-convert {\n",
              "      background-color: #3B4455;\n",
              "      fill: #D2E3FC;\n",
              "    }\n",
              "\n",
              "    [theme=dark] .colab-df-convert:hover {\n",
              "      background-color: #434B5C;\n",
              "      box-shadow: 0px 1px 3px 1px rgba(0, 0, 0, 0.15);\n",
              "      filter: drop-shadow(0px 1px 2px rgba(0, 0, 0, 0.3));\n",
              "      fill: #FFFFFF;\n",
              "    }\n",
              "  </style>\n",
              "\n",
              "      <script>\n",
              "        const buttonEl =\n",
              "          document.querySelector('#df-148ff785-9b40-43fd-824c-d33a0f86f5d3 button.colab-df-convert');\n",
              "        buttonEl.style.display =\n",
              "          google.colab.kernel.accessAllowed ? 'block' : 'none';\n",
              "\n",
              "        async function convertToInteractive(key) {\n",
              "          const element = document.querySelector('#df-148ff785-9b40-43fd-824c-d33a0f86f5d3');\n",
              "          const dataTable =\n",
              "            await google.colab.kernel.invokeFunction('convertToInteractive',\n",
              "                                                     [key], {});\n",
              "          if (!dataTable) return;\n",
              "\n",
              "          const docLinkHtml = 'Like what you see? Visit the ' +\n",
              "            '<a target=\"_blank\" href=https://colab.research.google.com/notebooks/data_table.ipynb>data table notebook</a>'\n",
              "            + ' to learn more about interactive tables.';\n",
              "          element.innerHTML = '';\n",
              "          dataTable['output_type'] = 'display_data';\n",
              "          await google.colab.output.renderOutput(dataTable, element);\n",
              "          const docLink = document.createElement('div');\n",
              "          docLink.innerHTML = docLinkHtml;\n",
              "          element.appendChild(docLink);\n",
              "        }\n",
              "      </script>\n",
              "    </div>\n",
              "  </div>\n",
              "  "
            ]
          },
          "metadata": {},
          "execution_count": 26
        }
      ]
    },
    {
      "cell_type": "markdown",
      "source": [
        "**4. Tratamiento de datos**"
      ],
      "metadata": {
        "id": "FJmAgTd4Pvzk"
      }
    },
    {
      "cell_type": "markdown",
      "source": [
        "**4.1. Remoción de las lecturas cero de la variable objetivo**"
      ],
      "metadata": {
        "id": "dUZkyT_SyBDu"
      }
    },
    {
      "cell_type": "code",
      "source": [
        "for i in df.columns:\n",
        "  print(\"%20s\"%i, np.sum(df[i].isna()))"
      ],
      "metadata": {
        "colab": {
          "base_uri": "https://localhost:8080/"
        },
        "id": "X6z-99ohyE_C",
        "outputId": "de1da6a0-4067-47e1-f9cb-fe0bf336ca98"
      },
      "execution_count": 27,
      "outputs": [
        {
          "output_type": "stream",
          "name": "stdout",
          "text": [
            "          Unnamed: 0 0\n",
            "                time 0\n",
            "   Madrid_wind_speed 0\n",
            "   Valencia_wind_deg 0\n",
            "      Bilbao_rain_1h 0\n",
            " Valencia_wind_speed 0\n",
            "    Seville_humidity 0\n",
            "     Madrid_humidity 0\n",
            "   Bilbao_clouds_all 0\n",
            "   Bilbao_wind_speed 0\n",
            "  Seville_clouds_all 0\n",
            "     Bilbao_wind_deg 0\n",
            "Barcelona_wind_speed 0\n",
            "  Barcelona_wind_deg 0\n",
            "   Madrid_clouds_all 0\n",
            "  Seville_wind_speed 0\n",
            "   Barcelona_rain_1h 0\n",
            "    Seville_pressure 0\n",
            "     Seville_rain_1h 0\n",
            "      Bilbao_snow_3h 0\n",
            "  Barcelona_pressure 0\n",
            "     Seville_rain_3h 0\n",
            "      Madrid_rain_1h 0\n",
            "   Barcelona_rain_3h 0\n",
            "    Valencia_snow_3h 0\n",
            "   Madrid_weather_id 0\n",
            "Barcelona_weather_id 0\n",
            "     Bilbao_pressure 0\n",
            "  Seville_weather_id 0\n",
            "   Valencia_pressure 2068\n",
            "    Seville_temp_max 0\n",
            "     Madrid_pressure 0\n",
            "   Valencia_temp_max 0\n",
            "       Valencia_temp 0\n",
            "   Bilbao_weather_id 0\n",
            "        Seville_temp 0\n",
            "   Valencia_humidity 0\n",
            "   Valencia_temp_min 0\n",
            "  Barcelona_temp_max 0\n",
            "     Madrid_temp_max 0\n",
            "      Barcelona_temp 0\n",
            "     Bilbao_temp_min 0\n",
            "         Bilbao_temp 0\n",
            "  Barcelona_temp_min 0\n",
            "     Bilbao_temp_max 0\n",
            "    Seville_temp_min 0\n",
            "         Madrid_temp 0\n",
            "     Madrid_temp_min 0\n",
            "   load_shortfall_3h 0\n"
          ]
        }
      ]
    },
    {
      "cell_type": "markdown",
      "source": [
        "**4.2. Eliminación de las columnas con muchos datos faltantes**"
      ],
      "metadata": {
        "id": "enVR6Ojk1dmr"
      }
    },
    {
      "cell_type": "markdown",
      "source": [
        "Del análisi exploratorio de las variables encontramos que la unica variable con datos faltantes es Valencia_pressure, por lo que procederemos a eliminarla."
      ],
      "metadata": {
        "id": "Iok2Ravf1-aG"
      }
    },
    {
      "cell_type": "code",
      "source": [
        "del(df[\"Valencia_pressure\"])"
      ],
      "metadata": {
        "id": "CXrCLpWL2iOs"
      },
      "execution_count": 28,
      "outputs": []
    },
    {
      "cell_type": "markdown",
      "source": [
        "**4.3. Transformación de las variables categoricas**"
      ],
      "metadata": {
        "id": "EWTUL2gw2wF-"
      }
    },
    {
      "cell_type": "markdown",
      "source": [
        "Las variables categoricas, como lo son en este caso \"Valencia_wind_deg\" y \"Seville_pressure\" pueden ser utiles a la hora de realizar el análisis, sin embargo, no pueden usadas en la forma categorica, por lo que se deben convertir en variables numericas que si podamos utilzar para entrenar un modelo."
      ],
      "metadata": {
        "id": "3DCQot2r3VCP"
      }
    },
    {
      "cell_type": "code",
      "source": [
        "var_categoricas = ['Valencia_wind_deg', 'Seville_pressure']\n",
        "encoder = preprocessing.LabelEncoder()\n",
        "\n",
        "for i in var_categoricas:\n",
        "    \n",
        "    df[i] = encoder.fit_transform(df[i])\n",
        "    \n",
        "print (df.info())"
      ],
      "metadata": {
        "colab": {
          "base_uri": "https://localhost:8080/"
        },
        "id": "IrlbwxNy3XBv",
        "outputId": "78a4801d-db45-402f-e97b-64be0cdc738f"
      },
      "execution_count": 29,
      "outputs": [
        {
          "output_type": "stream",
          "name": "stdout",
          "text": [
            "<class 'pandas.core.frame.DataFrame'>\n",
            "RangeIndex: 8763 entries, 0 to 8762\n",
            "Data columns (total 48 columns):\n",
            " #   Column                Non-Null Count  Dtype  \n",
            "---  ------                --------------  -----  \n",
            " 0   Unnamed: 0            8763 non-null   int64  \n",
            " 1   time                  8763 non-null   object \n",
            " 2   Madrid_wind_speed     8763 non-null   float64\n",
            " 3   Valencia_wind_deg     8763 non-null   int64  \n",
            " 4   Bilbao_rain_1h        8763 non-null   float64\n",
            " 5   Valencia_wind_speed   8763 non-null   float64\n",
            " 6   Seville_humidity      8763 non-null   float64\n",
            " 7   Madrid_humidity       8763 non-null   float64\n",
            " 8   Bilbao_clouds_all     8763 non-null   float64\n",
            " 9   Bilbao_wind_speed     8763 non-null   float64\n",
            " 10  Seville_clouds_all    8763 non-null   float64\n",
            " 11  Bilbao_wind_deg       8763 non-null   float64\n",
            " 12  Barcelona_wind_speed  8763 non-null   float64\n",
            " 13  Barcelona_wind_deg    8763 non-null   float64\n",
            " 14  Madrid_clouds_all     8763 non-null   float64\n",
            " 15  Seville_wind_speed    8763 non-null   float64\n",
            " 16  Barcelona_rain_1h     8763 non-null   float64\n",
            " 17  Seville_pressure      8763 non-null   int64  \n",
            " 18  Seville_rain_1h       8763 non-null   float64\n",
            " 19  Bilbao_snow_3h        8763 non-null   float64\n",
            " 20  Barcelona_pressure    8763 non-null   float64\n",
            " 21  Seville_rain_3h       8763 non-null   float64\n",
            " 22  Madrid_rain_1h        8763 non-null   float64\n",
            " 23  Barcelona_rain_3h     8763 non-null   float64\n",
            " 24  Valencia_snow_3h      8763 non-null   float64\n",
            " 25  Madrid_weather_id     8763 non-null   float64\n",
            " 26  Barcelona_weather_id  8763 non-null   float64\n",
            " 27  Bilbao_pressure       8763 non-null   float64\n",
            " 28  Seville_weather_id    8763 non-null   float64\n",
            " 29  Seville_temp_max      8763 non-null   float64\n",
            " 30  Madrid_pressure       8763 non-null   float64\n",
            " 31  Valencia_temp_max     8763 non-null   float64\n",
            " 32  Valencia_temp         8763 non-null   float64\n",
            " 33  Bilbao_weather_id     8763 non-null   float64\n",
            " 34  Seville_temp          8763 non-null   float64\n",
            " 35  Valencia_humidity     8763 non-null   float64\n",
            " 36  Valencia_temp_min     8763 non-null   float64\n",
            " 37  Barcelona_temp_max    8763 non-null   float64\n",
            " 38  Madrid_temp_max       8763 non-null   float64\n",
            " 39  Barcelona_temp        8763 non-null   float64\n",
            " 40  Bilbao_temp_min       8763 non-null   float64\n",
            " 41  Bilbao_temp           8763 non-null   float64\n",
            " 42  Barcelona_temp_min    8763 non-null   float64\n",
            " 43  Bilbao_temp_max       8763 non-null   float64\n",
            " 44  Seville_temp_min      8763 non-null   float64\n",
            " 45  Madrid_temp           8763 non-null   float64\n",
            " 46  Madrid_temp_min       8763 non-null   float64\n",
            " 47  load_shortfall_3h     8763 non-null   float64\n",
            "dtypes: float64(44), int64(3), object(1)\n",
            "memory usage: 3.2+ MB\n",
            "None\n"
          ]
        }
      ]
    },
    {
      "cell_type": "code",
      "source": [
        "dfi = df.set_index('time')\n",
        "dfi"
      ],
      "metadata": {
        "colab": {
          "base_uri": "https://localhost:8080/",
          "height": 883
        },
        "id": "vLNxZjL_480G",
        "outputId": "c6de3aba-e5d7-42e9-d885-0e51d4306502"
      },
      "execution_count": 30,
      "outputs": [
        {
          "output_type": "execute_result",
          "data": {
            "text/plain": [
              "                     Unnamed: 0  Madrid_wind_speed  Valencia_wind_deg  \\\n",
              "time                                                                    \n",
              "2015-01-01 03:00:00           0           0.666667                  5   \n",
              "2015-01-01 06:00:00           1           0.333333                  1   \n",
              "2015-01-01 09:00:00           2           1.000000                  9   \n",
              "2015-01-01 12:00:00           3           1.000000                  8   \n",
              "2015-01-01 15:00:00           4           1.000000                  7   \n",
              "...                         ...                ...                ...   \n",
              "2017-12-31 09:00:00        8758           1.000000                  6   \n",
              "2017-12-31 12:00:00        8759           5.000000                  6   \n",
              "2017-12-31 15:00:00        8760           6.333333                  9   \n",
              "2017-12-31 18:00:00        8761           7.333333                  8   \n",
              "2017-12-31 21:00:00        8762           4.333333                  9   \n",
              "\n",
              "                     Bilbao_rain_1h  Valencia_wind_speed  Seville_humidity  \\\n",
              "time                                                                         \n",
              "2015-01-01 03:00:00             0.0             0.666667         74.333333   \n",
              "2015-01-01 06:00:00             0.0             1.666667         78.333333   \n",
              "2015-01-01 09:00:00             0.0             1.000000         71.333333   \n",
              "2015-01-01 12:00:00             0.0             1.000000         65.333333   \n",
              "2015-01-01 15:00:00             0.0             1.000000         59.000000   \n",
              "...                             ...                  ...               ...   \n",
              "2017-12-31 09:00:00             0.0             2.666667         89.000000   \n",
              "2017-12-31 12:00:00             0.0             2.000000         82.000000   \n",
              "2017-12-31 15:00:00             0.4             7.333333         67.666667   \n",
              "2017-12-31 18:00:00             0.2             7.333333         67.666667   \n",
              "2017-12-31 21:00:00             0.0             7.000000         78.666667   \n",
              "\n",
              "                     Madrid_humidity  Bilbao_clouds_all  Bilbao_wind_speed  \\\n",
              "time                                                                         \n",
              "2015-01-01 03:00:00        64.000000           0.000000           1.000000   \n",
              "2015-01-01 06:00:00        64.666667           0.000000           1.000000   \n",
              "2015-01-01 09:00:00        64.333333           0.000000           1.000000   \n",
              "2015-01-01 12:00:00        56.333333           0.000000           1.000000   \n",
              "2015-01-01 15:00:00        57.000000           2.000000           0.333333   \n",
              "...                              ...                ...                ...   \n",
              "2017-12-31 09:00:00        95.666667          56.666667           4.333333   \n",
              "2017-12-31 12:00:00        85.000000          26.666667           8.000000   \n",
              "2017-12-31 15:00:00        71.000000          63.333333           8.333333   \n",
              "2017-12-31 18:00:00        79.000000          63.333333           2.666667   \n",
              "2017-12-31 21:00:00        68.666667          20.000000           1.666667   \n",
              "\n",
              "                     Seville_clouds_all  ...  Madrid_temp_max  Barcelona_temp  \\\n",
              "time                                     ...                                    \n",
              "2015-01-01 03:00:00            0.000000  ...       265.938000      281.013000   \n",
              "2015-01-01 06:00:00            0.000000  ...       266.386667      280.561667   \n",
              "2015-01-01 09:00:00            0.000000  ...       272.708667      281.583667   \n",
              "2015-01-01 12:00:00            0.000000  ...       281.895219      283.434104   \n",
              "2015-01-01 15:00:00            0.000000  ...       280.678437      284.213167   \n",
              "...                                 ...  ...              ...             ...   \n",
              "2017-12-31 09:00:00           80.000000  ...       280.816667      281.276667   \n",
              "2017-12-31 12:00:00           75.000000  ...       283.483333      287.483333   \n",
              "2017-12-31 15:00:00           33.333333  ...       285.150000      289.816667   \n",
              "2017-12-31 18:00:00           51.666667  ...       283.483333      287.523333   \n",
              "2017-12-31 21:00:00           33.333333  ...       282.150000      287.483333   \n",
              "\n",
              "                     Bilbao_temp_min  Bilbao_temp  Barcelona_temp_min  \\\n",
              "time                                                                    \n",
              "2015-01-01 03:00:00       269.338615   269.338615          281.013000   \n",
              "2015-01-01 06:00:00       270.376000   270.376000          280.561667   \n",
              "2015-01-01 09:00:00       275.027229   275.027229          281.583667   \n",
              "2015-01-01 12:00:00       281.135063   281.135063          283.434104   \n",
              "2015-01-01 15:00:00       282.252063   282.252063          284.213167   \n",
              "...                              ...          ...                 ...   \n",
              "2017-12-31 09:00:00       285.150000   287.573333          280.483333   \n",
              "2017-12-31 12:00:00       286.483333   288.616667          287.150000   \n",
              "2017-12-31 15:00:00       283.816667   285.330000          289.150000   \n",
              "2017-12-31 18:00:00       278.816667   281.410000          286.816667   \n",
              "2017-12-31 21:00:00       276.816667   281.020000          287.150000   \n",
              "\n",
              "                     Bilbao_temp_max  Seville_temp_min  Madrid_temp  \\\n",
              "time                                                                  \n",
              "2015-01-01 03:00:00       269.338615        274.254667   265.938000   \n",
              "2015-01-01 06:00:00       270.376000        274.945000   266.386667   \n",
              "2015-01-01 09:00:00       275.027229        278.792000   272.708667   \n",
              "2015-01-01 12:00:00       281.135063        285.394000   281.895219   \n",
              "2015-01-01 15:00:00       282.252063        285.513719   280.678437   \n",
              "...                              ...               ...          ...   \n",
              "2017-12-31 09:00:00       290.150000        284.816667   279.686667   \n",
              "2017-12-31 12:00:00       291.150000        287.150000   282.400000   \n",
              "2017-12-31 15:00:00       286.816667        289.150000   283.956667   \n",
              "2017-12-31 18:00:00       284.150000        289.150000   282.666667   \n",
              "2017-12-31 21:00:00       285.150000        287.483333   281.396667   \n",
              "\n",
              "                     Madrid_temp_min  load_shortfall_3h  \n",
              "time                                                     \n",
              "2015-01-01 03:00:00       265.938000        6715.666667  \n",
              "2015-01-01 06:00:00       266.386667        4171.666667  \n",
              "2015-01-01 09:00:00       272.708667        4274.666667  \n",
              "2015-01-01 12:00:00       281.895219        5075.666667  \n",
              "2015-01-01 15:00:00       280.678437        6620.666667  \n",
              "...                              ...                ...  \n",
              "2017-12-31 09:00:00       278.483333         -28.333333  \n",
              "2017-12-31 12:00:00       280.150000        2266.666667  \n",
              "2017-12-31 15:00:00       281.150000         822.000000  \n",
              "2017-12-31 18:00:00       280.816667        -760.000000  \n",
              "2017-12-31 21:00:00       280.483333        2780.666667  \n",
              "\n",
              "[8763 rows x 47 columns]"
            ],
            "text/html": [
              "\n",
              "  <div id=\"df-af4a4295-db23-4b06-b9cd-8a3b99b548dd\">\n",
              "    <div class=\"colab-df-container\">\n",
              "      <div>\n",
              "<style scoped>\n",
              "    .dataframe tbody tr th:only-of-type {\n",
              "        vertical-align: middle;\n",
              "    }\n",
              "\n",
              "    .dataframe tbody tr th {\n",
              "        vertical-align: top;\n",
              "    }\n",
              "\n",
              "    .dataframe thead th {\n",
              "        text-align: right;\n",
              "    }\n",
              "</style>\n",
              "<table border=\"1\" class=\"dataframe\">\n",
              "  <thead>\n",
              "    <tr style=\"text-align: right;\">\n",
              "      <th></th>\n",
              "      <th>Unnamed: 0</th>\n",
              "      <th>Madrid_wind_speed</th>\n",
              "      <th>Valencia_wind_deg</th>\n",
              "      <th>Bilbao_rain_1h</th>\n",
              "      <th>Valencia_wind_speed</th>\n",
              "      <th>Seville_humidity</th>\n",
              "      <th>Madrid_humidity</th>\n",
              "      <th>Bilbao_clouds_all</th>\n",
              "      <th>Bilbao_wind_speed</th>\n",
              "      <th>Seville_clouds_all</th>\n",
              "      <th>...</th>\n",
              "      <th>Madrid_temp_max</th>\n",
              "      <th>Barcelona_temp</th>\n",
              "      <th>Bilbao_temp_min</th>\n",
              "      <th>Bilbao_temp</th>\n",
              "      <th>Barcelona_temp_min</th>\n",
              "      <th>Bilbao_temp_max</th>\n",
              "      <th>Seville_temp_min</th>\n",
              "      <th>Madrid_temp</th>\n",
              "      <th>Madrid_temp_min</th>\n",
              "      <th>load_shortfall_3h</th>\n",
              "    </tr>\n",
              "    <tr>\n",
              "      <th>time</th>\n",
              "      <th></th>\n",
              "      <th></th>\n",
              "      <th></th>\n",
              "      <th></th>\n",
              "      <th></th>\n",
              "      <th></th>\n",
              "      <th></th>\n",
              "      <th></th>\n",
              "      <th></th>\n",
              "      <th></th>\n",
              "      <th></th>\n",
              "      <th></th>\n",
              "      <th></th>\n",
              "      <th></th>\n",
              "      <th></th>\n",
              "      <th></th>\n",
              "      <th></th>\n",
              "      <th></th>\n",
              "      <th></th>\n",
              "      <th></th>\n",
              "      <th></th>\n",
              "    </tr>\n",
              "  </thead>\n",
              "  <tbody>\n",
              "    <tr>\n",
              "      <th>2015-01-01 03:00:00</th>\n",
              "      <td>0</td>\n",
              "      <td>0.666667</td>\n",
              "      <td>5</td>\n",
              "      <td>0.0</td>\n",
              "      <td>0.666667</td>\n",
              "      <td>74.333333</td>\n",
              "      <td>64.000000</td>\n",
              "      <td>0.000000</td>\n",
              "      <td>1.000000</td>\n",
              "      <td>0.000000</td>\n",
              "      <td>...</td>\n",
              "      <td>265.938000</td>\n",
              "      <td>281.013000</td>\n",
              "      <td>269.338615</td>\n",
              "      <td>269.338615</td>\n",
              "      <td>281.013000</td>\n",
              "      <td>269.338615</td>\n",
              "      <td>274.254667</td>\n",
              "      <td>265.938000</td>\n",
              "      <td>265.938000</td>\n",
              "      <td>6715.666667</td>\n",
              "    </tr>\n",
              "    <tr>\n",
              "      <th>2015-01-01 06:00:00</th>\n",
              "      <td>1</td>\n",
              "      <td>0.333333</td>\n",
              "      <td>1</td>\n",
              "      <td>0.0</td>\n",
              "      <td>1.666667</td>\n",
              "      <td>78.333333</td>\n",
              "      <td>64.666667</td>\n",
              "      <td>0.000000</td>\n",
              "      <td>1.000000</td>\n",
              "      <td>0.000000</td>\n",
              "      <td>...</td>\n",
              "      <td>266.386667</td>\n",
              "      <td>280.561667</td>\n",
              "      <td>270.376000</td>\n",
              "      <td>270.376000</td>\n",
              "      <td>280.561667</td>\n",
              "      <td>270.376000</td>\n",
              "      <td>274.945000</td>\n",
              "      <td>266.386667</td>\n",
              "      <td>266.386667</td>\n",
              "      <td>4171.666667</td>\n",
              "    </tr>\n",
              "    <tr>\n",
              "      <th>2015-01-01 09:00:00</th>\n",
              "      <td>2</td>\n",
              "      <td>1.000000</td>\n",
              "      <td>9</td>\n",
              "      <td>0.0</td>\n",
              "      <td>1.000000</td>\n",
              "      <td>71.333333</td>\n",
              "      <td>64.333333</td>\n",
              "      <td>0.000000</td>\n",
              "      <td>1.000000</td>\n",
              "      <td>0.000000</td>\n",
              "      <td>...</td>\n",
              "      <td>272.708667</td>\n",
              "      <td>281.583667</td>\n",
              "      <td>275.027229</td>\n",
              "      <td>275.027229</td>\n",
              "      <td>281.583667</td>\n",
              "      <td>275.027229</td>\n",
              "      <td>278.792000</td>\n",
              "      <td>272.708667</td>\n",
              "      <td>272.708667</td>\n",
              "      <td>4274.666667</td>\n",
              "    </tr>\n",
              "    <tr>\n",
              "      <th>2015-01-01 12:00:00</th>\n",
              "      <td>3</td>\n",
              "      <td>1.000000</td>\n",
              "      <td>8</td>\n",
              "      <td>0.0</td>\n",
              "      <td>1.000000</td>\n",
              "      <td>65.333333</td>\n",
              "      <td>56.333333</td>\n",
              "      <td>0.000000</td>\n",
              "      <td>1.000000</td>\n",
              "      <td>0.000000</td>\n",
              "      <td>...</td>\n",
              "      <td>281.895219</td>\n",
              "      <td>283.434104</td>\n",
              "      <td>281.135063</td>\n",
              "      <td>281.135063</td>\n",
              "      <td>283.434104</td>\n",
              "      <td>281.135063</td>\n",
              "      <td>285.394000</td>\n",
              "      <td>281.895219</td>\n",
              "      <td>281.895219</td>\n",
              "      <td>5075.666667</td>\n",
              "    </tr>\n",
              "    <tr>\n",
              "      <th>2015-01-01 15:00:00</th>\n",
              "      <td>4</td>\n",
              "      <td>1.000000</td>\n",
              "      <td>7</td>\n",
              "      <td>0.0</td>\n",
              "      <td>1.000000</td>\n",
              "      <td>59.000000</td>\n",
              "      <td>57.000000</td>\n",
              "      <td>2.000000</td>\n",
              "      <td>0.333333</td>\n",
              "      <td>0.000000</td>\n",
              "      <td>...</td>\n",
              "      <td>280.678437</td>\n",
              "      <td>284.213167</td>\n",
              "      <td>282.252063</td>\n",
              "      <td>282.252063</td>\n",
              "      <td>284.213167</td>\n",
              "      <td>282.252063</td>\n",
              "      <td>285.513719</td>\n",
              "      <td>280.678437</td>\n",
              "      <td>280.678437</td>\n",
              "      <td>6620.666667</td>\n",
              "    </tr>\n",
              "    <tr>\n",
              "      <th>...</th>\n",
              "      <td>...</td>\n",
              "      <td>...</td>\n",
              "      <td>...</td>\n",
              "      <td>...</td>\n",
              "      <td>...</td>\n",
              "      <td>...</td>\n",
              "      <td>...</td>\n",
              "      <td>...</td>\n",
              "      <td>...</td>\n",
              "      <td>...</td>\n",
              "      <td>...</td>\n",
              "      <td>...</td>\n",
              "      <td>...</td>\n",
              "      <td>...</td>\n",
              "      <td>...</td>\n",
              "      <td>...</td>\n",
              "      <td>...</td>\n",
              "      <td>...</td>\n",
              "      <td>...</td>\n",
              "      <td>...</td>\n",
              "      <td>...</td>\n",
              "    </tr>\n",
              "    <tr>\n",
              "      <th>2017-12-31 09:00:00</th>\n",
              "      <td>8758</td>\n",
              "      <td>1.000000</td>\n",
              "      <td>6</td>\n",
              "      <td>0.0</td>\n",
              "      <td>2.666667</td>\n",
              "      <td>89.000000</td>\n",
              "      <td>95.666667</td>\n",
              "      <td>56.666667</td>\n",
              "      <td>4.333333</td>\n",
              "      <td>80.000000</td>\n",
              "      <td>...</td>\n",
              "      <td>280.816667</td>\n",
              "      <td>281.276667</td>\n",
              "      <td>285.150000</td>\n",
              "      <td>287.573333</td>\n",
              "      <td>280.483333</td>\n",
              "      <td>290.150000</td>\n",
              "      <td>284.816667</td>\n",
              "      <td>279.686667</td>\n",
              "      <td>278.483333</td>\n",
              "      <td>-28.333333</td>\n",
              "    </tr>\n",
              "    <tr>\n",
              "      <th>2017-12-31 12:00:00</th>\n",
              "      <td>8759</td>\n",
              "      <td>5.000000</td>\n",
              "      <td>6</td>\n",
              "      <td>0.0</td>\n",
              "      <td>2.000000</td>\n",
              "      <td>82.000000</td>\n",
              "      <td>85.000000</td>\n",
              "      <td>26.666667</td>\n",
              "      <td>8.000000</td>\n",
              "      <td>75.000000</td>\n",
              "      <td>...</td>\n",
              "      <td>283.483333</td>\n",
              "      <td>287.483333</td>\n",
              "      <td>286.483333</td>\n",
              "      <td>288.616667</td>\n",
              "      <td>287.150000</td>\n",
              "      <td>291.150000</td>\n",
              "      <td>287.150000</td>\n",
              "      <td>282.400000</td>\n",
              "      <td>280.150000</td>\n",
              "      <td>2266.666667</td>\n",
              "    </tr>\n",
              "    <tr>\n",
              "      <th>2017-12-31 15:00:00</th>\n",
              "      <td>8760</td>\n",
              "      <td>6.333333</td>\n",
              "      <td>9</td>\n",
              "      <td>0.4</td>\n",
              "      <td>7.333333</td>\n",
              "      <td>67.666667</td>\n",
              "      <td>71.000000</td>\n",
              "      <td>63.333333</td>\n",
              "      <td>8.333333</td>\n",
              "      <td>33.333333</td>\n",
              "      <td>...</td>\n",
              "      <td>285.150000</td>\n",
              "      <td>289.816667</td>\n",
              "      <td>283.816667</td>\n",
              "      <td>285.330000</td>\n",
              "      <td>289.150000</td>\n",
              "      <td>286.816667</td>\n",
              "      <td>289.150000</td>\n",
              "      <td>283.956667</td>\n",
              "      <td>281.150000</td>\n",
              "      <td>822.000000</td>\n",
              "    </tr>\n",
              "    <tr>\n",
              "      <th>2017-12-31 18:00:00</th>\n",
              "      <td>8761</td>\n",
              "      <td>7.333333</td>\n",
              "      <td>8</td>\n",
              "      <td>0.2</td>\n",
              "      <td>7.333333</td>\n",
              "      <td>67.666667</td>\n",
              "      <td>79.000000</td>\n",
              "      <td>63.333333</td>\n",
              "      <td>2.666667</td>\n",
              "      <td>51.666667</td>\n",
              "      <td>...</td>\n",
              "      <td>283.483333</td>\n",
              "      <td>287.523333</td>\n",
              "      <td>278.816667</td>\n",
              "      <td>281.410000</td>\n",
              "      <td>286.816667</td>\n",
              "      <td>284.150000</td>\n",
              "      <td>289.150000</td>\n",
              "      <td>282.666667</td>\n",
              "      <td>280.816667</td>\n",
              "      <td>-760.000000</td>\n",
              "    </tr>\n",
              "    <tr>\n",
              "      <th>2017-12-31 21:00:00</th>\n",
              "      <td>8762</td>\n",
              "      <td>4.333333</td>\n",
              "      <td>9</td>\n",
              "      <td>0.0</td>\n",
              "      <td>7.000000</td>\n",
              "      <td>78.666667</td>\n",
              "      <td>68.666667</td>\n",
              "      <td>20.000000</td>\n",
              "      <td>1.666667</td>\n",
              "      <td>33.333333</td>\n",
              "      <td>...</td>\n",
              "      <td>282.150000</td>\n",
              "      <td>287.483333</td>\n",
              "      <td>276.816667</td>\n",
              "      <td>281.020000</td>\n",
              "      <td>287.150000</td>\n",
              "      <td>285.150000</td>\n",
              "      <td>287.483333</td>\n",
              "      <td>281.396667</td>\n",
              "      <td>280.483333</td>\n",
              "      <td>2780.666667</td>\n",
              "    </tr>\n",
              "  </tbody>\n",
              "</table>\n",
              "<p>8763 rows × 47 columns</p>\n",
              "</div>\n",
              "      <button class=\"colab-df-convert\" onclick=\"convertToInteractive('df-af4a4295-db23-4b06-b9cd-8a3b99b548dd')\"\n",
              "              title=\"Convert this dataframe to an interactive table.\"\n",
              "              style=\"display:none;\">\n",
              "        \n",
              "  <svg xmlns=\"http://www.w3.org/2000/svg\" height=\"24px\"viewBox=\"0 0 24 24\"\n",
              "       width=\"24px\">\n",
              "    <path d=\"M0 0h24v24H0V0z\" fill=\"none\"/>\n",
              "    <path d=\"M18.56 5.44l.94 2.06.94-2.06 2.06-.94-2.06-.94-.94-2.06-.94 2.06-2.06.94zm-11 1L8.5 8.5l.94-2.06 2.06-.94-2.06-.94L8.5 2.5l-.94 2.06-2.06.94zm10 10l.94 2.06.94-2.06 2.06-.94-2.06-.94-.94-2.06-.94 2.06-2.06.94z\"/><path d=\"M17.41 7.96l-1.37-1.37c-.4-.4-.92-.59-1.43-.59-.52 0-1.04.2-1.43.59L10.3 9.45l-7.72 7.72c-.78.78-.78 2.05 0 2.83L4 21.41c.39.39.9.59 1.41.59.51 0 1.02-.2 1.41-.59l7.78-7.78 2.81-2.81c.8-.78.8-2.07 0-2.86zM5.41 20L4 18.59l7.72-7.72 1.47 1.35L5.41 20z\"/>\n",
              "  </svg>\n",
              "      </button>\n",
              "      \n",
              "  <style>\n",
              "    .colab-df-container {\n",
              "      display:flex;\n",
              "      flex-wrap:wrap;\n",
              "      gap: 12px;\n",
              "    }\n",
              "\n",
              "    .colab-df-convert {\n",
              "      background-color: #E8F0FE;\n",
              "      border: none;\n",
              "      border-radius: 50%;\n",
              "      cursor: pointer;\n",
              "      display: none;\n",
              "      fill: #1967D2;\n",
              "      height: 32px;\n",
              "      padding: 0 0 0 0;\n",
              "      width: 32px;\n",
              "    }\n",
              "\n",
              "    .colab-df-convert:hover {\n",
              "      background-color: #E2EBFA;\n",
              "      box-shadow: 0px 1px 2px rgba(60, 64, 67, 0.3), 0px 1px 3px 1px rgba(60, 64, 67, 0.15);\n",
              "      fill: #174EA6;\n",
              "    }\n",
              "\n",
              "    [theme=dark] .colab-df-convert {\n",
              "      background-color: #3B4455;\n",
              "      fill: #D2E3FC;\n",
              "    }\n",
              "\n",
              "    [theme=dark] .colab-df-convert:hover {\n",
              "      background-color: #434B5C;\n",
              "      box-shadow: 0px 1px 3px 1px rgba(0, 0, 0, 0.15);\n",
              "      filter: drop-shadow(0px 1px 2px rgba(0, 0, 0, 0.3));\n",
              "      fill: #FFFFFF;\n",
              "    }\n",
              "  </style>\n",
              "\n",
              "      <script>\n",
              "        const buttonEl =\n",
              "          document.querySelector('#df-af4a4295-db23-4b06-b9cd-8a3b99b548dd button.colab-df-convert');\n",
              "        buttonEl.style.display =\n",
              "          google.colab.kernel.accessAllowed ? 'block' : 'none';\n",
              "\n",
              "        async function convertToInteractive(key) {\n",
              "          const element = document.querySelector('#df-af4a4295-db23-4b06-b9cd-8a3b99b548dd');\n",
              "          const dataTable =\n",
              "            await google.colab.kernel.invokeFunction('convertToInteractive',\n",
              "                                                     [key], {});\n",
              "          if (!dataTable) return;\n",
              "\n",
              "          const docLinkHtml = 'Like what you see? Visit the ' +\n",
              "            '<a target=\"_blank\" href=https://colab.research.google.com/notebooks/data_table.ipynb>data table notebook</a>'\n",
              "            + ' to learn more about interactive tables.';\n",
              "          element.innerHTML = '';\n",
              "          dataTable['output_type'] = 'display_data';\n",
              "          await google.colab.output.renderOutput(dataTable, element);\n",
              "          const docLink = document.createElement('div');\n",
              "          docLink.innerHTML = docLinkHtml;\n",
              "          element.appendChild(docLink);\n",
              "        }\n",
              "      </script>\n",
              "    </div>\n",
              "  </div>\n",
              "  "
            ]
          },
          "metadata": {},
          "execution_count": 30
        }
      ]
    },
    {
      "cell_type": "code",
      "source": [
        "copia_dfi = dfi.copy()\n",
        "copia_dfi"
      ],
      "metadata": {
        "colab": {
          "base_uri": "https://localhost:8080/",
          "height": 883
        },
        "id": "3WusIKOnBnnO",
        "outputId": "9ee102f7-d316-463a-da4f-400c9b2bf055"
      },
      "execution_count": 31,
      "outputs": [
        {
          "output_type": "execute_result",
          "data": {
            "text/plain": [
              "                     Unnamed: 0  Madrid_wind_speed  Valencia_wind_deg  \\\n",
              "time                                                                    \n",
              "2015-01-01 03:00:00           0           0.666667                  5   \n",
              "2015-01-01 06:00:00           1           0.333333                  1   \n",
              "2015-01-01 09:00:00           2           1.000000                  9   \n",
              "2015-01-01 12:00:00           3           1.000000                  8   \n",
              "2015-01-01 15:00:00           4           1.000000                  7   \n",
              "...                         ...                ...                ...   \n",
              "2017-12-31 09:00:00        8758           1.000000                  6   \n",
              "2017-12-31 12:00:00        8759           5.000000                  6   \n",
              "2017-12-31 15:00:00        8760           6.333333                  9   \n",
              "2017-12-31 18:00:00        8761           7.333333                  8   \n",
              "2017-12-31 21:00:00        8762           4.333333                  9   \n",
              "\n",
              "                     Bilbao_rain_1h  Valencia_wind_speed  Seville_humidity  \\\n",
              "time                                                                         \n",
              "2015-01-01 03:00:00             0.0             0.666667         74.333333   \n",
              "2015-01-01 06:00:00             0.0             1.666667         78.333333   \n",
              "2015-01-01 09:00:00             0.0             1.000000         71.333333   \n",
              "2015-01-01 12:00:00             0.0             1.000000         65.333333   \n",
              "2015-01-01 15:00:00             0.0             1.000000         59.000000   \n",
              "...                             ...                  ...               ...   \n",
              "2017-12-31 09:00:00             0.0             2.666667         89.000000   \n",
              "2017-12-31 12:00:00             0.0             2.000000         82.000000   \n",
              "2017-12-31 15:00:00             0.4             7.333333         67.666667   \n",
              "2017-12-31 18:00:00             0.2             7.333333         67.666667   \n",
              "2017-12-31 21:00:00             0.0             7.000000         78.666667   \n",
              "\n",
              "                     Madrid_humidity  Bilbao_clouds_all  Bilbao_wind_speed  \\\n",
              "time                                                                         \n",
              "2015-01-01 03:00:00        64.000000           0.000000           1.000000   \n",
              "2015-01-01 06:00:00        64.666667           0.000000           1.000000   \n",
              "2015-01-01 09:00:00        64.333333           0.000000           1.000000   \n",
              "2015-01-01 12:00:00        56.333333           0.000000           1.000000   \n",
              "2015-01-01 15:00:00        57.000000           2.000000           0.333333   \n",
              "...                              ...                ...                ...   \n",
              "2017-12-31 09:00:00        95.666667          56.666667           4.333333   \n",
              "2017-12-31 12:00:00        85.000000          26.666667           8.000000   \n",
              "2017-12-31 15:00:00        71.000000          63.333333           8.333333   \n",
              "2017-12-31 18:00:00        79.000000          63.333333           2.666667   \n",
              "2017-12-31 21:00:00        68.666667          20.000000           1.666667   \n",
              "\n",
              "                     Seville_clouds_all  ...  Madrid_temp_max  Barcelona_temp  \\\n",
              "time                                     ...                                    \n",
              "2015-01-01 03:00:00            0.000000  ...       265.938000      281.013000   \n",
              "2015-01-01 06:00:00            0.000000  ...       266.386667      280.561667   \n",
              "2015-01-01 09:00:00            0.000000  ...       272.708667      281.583667   \n",
              "2015-01-01 12:00:00            0.000000  ...       281.895219      283.434104   \n",
              "2015-01-01 15:00:00            0.000000  ...       280.678437      284.213167   \n",
              "...                                 ...  ...              ...             ...   \n",
              "2017-12-31 09:00:00           80.000000  ...       280.816667      281.276667   \n",
              "2017-12-31 12:00:00           75.000000  ...       283.483333      287.483333   \n",
              "2017-12-31 15:00:00           33.333333  ...       285.150000      289.816667   \n",
              "2017-12-31 18:00:00           51.666667  ...       283.483333      287.523333   \n",
              "2017-12-31 21:00:00           33.333333  ...       282.150000      287.483333   \n",
              "\n",
              "                     Bilbao_temp_min  Bilbao_temp  Barcelona_temp_min  \\\n",
              "time                                                                    \n",
              "2015-01-01 03:00:00       269.338615   269.338615          281.013000   \n",
              "2015-01-01 06:00:00       270.376000   270.376000          280.561667   \n",
              "2015-01-01 09:00:00       275.027229   275.027229          281.583667   \n",
              "2015-01-01 12:00:00       281.135063   281.135063          283.434104   \n",
              "2015-01-01 15:00:00       282.252063   282.252063          284.213167   \n",
              "...                              ...          ...                 ...   \n",
              "2017-12-31 09:00:00       285.150000   287.573333          280.483333   \n",
              "2017-12-31 12:00:00       286.483333   288.616667          287.150000   \n",
              "2017-12-31 15:00:00       283.816667   285.330000          289.150000   \n",
              "2017-12-31 18:00:00       278.816667   281.410000          286.816667   \n",
              "2017-12-31 21:00:00       276.816667   281.020000          287.150000   \n",
              "\n",
              "                     Bilbao_temp_max  Seville_temp_min  Madrid_temp  \\\n",
              "time                                                                  \n",
              "2015-01-01 03:00:00       269.338615        274.254667   265.938000   \n",
              "2015-01-01 06:00:00       270.376000        274.945000   266.386667   \n",
              "2015-01-01 09:00:00       275.027229        278.792000   272.708667   \n",
              "2015-01-01 12:00:00       281.135063        285.394000   281.895219   \n",
              "2015-01-01 15:00:00       282.252063        285.513719   280.678437   \n",
              "...                              ...               ...          ...   \n",
              "2017-12-31 09:00:00       290.150000        284.816667   279.686667   \n",
              "2017-12-31 12:00:00       291.150000        287.150000   282.400000   \n",
              "2017-12-31 15:00:00       286.816667        289.150000   283.956667   \n",
              "2017-12-31 18:00:00       284.150000        289.150000   282.666667   \n",
              "2017-12-31 21:00:00       285.150000        287.483333   281.396667   \n",
              "\n",
              "                     Madrid_temp_min  load_shortfall_3h  \n",
              "time                                                     \n",
              "2015-01-01 03:00:00       265.938000        6715.666667  \n",
              "2015-01-01 06:00:00       266.386667        4171.666667  \n",
              "2015-01-01 09:00:00       272.708667        4274.666667  \n",
              "2015-01-01 12:00:00       281.895219        5075.666667  \n",
              "2015-01-01 15:00:00       280.678437        6620.666667  \n",
              "...                              ...                ...  \n",
              "2017-12-31 09:00:00       278.483333         -28.333333  \n",
              "2017-12-31 12:00:00       280.150000        2266.666667  \n",
              "2017-12-31 15:00:00       281.150000         822.000000  \n",
              "2017-12-31 18:00:00       280.816667        -760.000000  \n",
              "2017-12-31 21:00:00       280.483333        2780.666667  \n",
              "\n",
              "[8763 rows x 47 columns]"
            ],
            "text/html": [
              "\n",
              "  <div id=\"df-9d397cdd-f195-4d4c-9daa-6d9fc23c4898\">\n",
              "    <div class=\"colab-df-container\">\n",
              "      <div>\n",
              "<style scoped>\n",
              "    .dataframe tbody tr th:only-of-type {\n",
              "        vertical-align: middle;\n",
              "    }\n",
              "\n",
              "    .dataframe tbody tr th {\n",
              "        vertical-align: top;\n",
              "    }\n",
              "\n",
              "    .dataframe thead th {\n",
              "        text-align: right;\n",
              "    }\n",
              "</style>\n",
              "<table border=\"1\" class=\"dataframe\">\n",
              "  <thead>\n",
              "    <tr style=\"text-align: right;\">\n",
              "      <th></th>\n",
              "      <th>Unnamed: 0</th>\n",
              "      <th>Madrid_wind_speed</th>\n",
              "      <th>Valencia_wind_deg</th>\n",
              "      <th>Bilbao_rain_1h</th>\n",
              "      <th>Valencia_wind_speed</th>\n",
              "      <th>Seville_humidity</th>\n",
              "      <th>Madrid_humidity</th>\n",
              "      <th>Bilbao_clouds_all</th>\n",
              "      <th>Bilbao_wind_speed</th>\n",
              "      <th>Seville_clouds_all</th>\n",
              "      <th>...</th>\n",
              "      <th>Madrid_temp_max</th>\n",
              "      <th>Barcelona_temp</th>\n",
              "      <th>Bilbao_temp_min</th>\n",
              "      <th>Bilbao_temp</th>\n",
              "      <th>Barcelona_temp_min</th>\n",
              "      <th>Bilbao_temp_max</th>\n",
              "      <th>Seville_temp_min</th>\n",
              "      <th>Madrid_temp</th>\n",
              "      <th>Madrid_temp_min</th>\n",
              "      <th>load_shortfall_3h</th>\n",
              "    </tr>\n",
              "    <tr>\n",
              "      <th>time</th>\n",
              "      <th></th>\n",
              "      <th></th>\n",
              "      <th></th>\n",
              "      <th></th>\n",
              "      <th></th>\n",
              "      <th></th>\n",
              "      <th></th>\n",
              "      <th></th>\n",
              "      <th></th>\n",
              "      <th></th>\n",
              "      <th></th>\n",
              "      <th></th>\n",
              "      <th></th>\n",
              "      <th></th>\n",
              "      <th></th>\n",
              "      <th></th>\n",
              "      <th></th>\n",
              "      <th></th>\n",
              "      <th></th>\n",
              "      <th></th>\n",
              "      <th></th>\n",
              "    </tr>\n",
              "  </thead>\n",
              "  <tbody>\n",
              "    <tr>\n",
              "      <th>2015-01-01 03:00:00</th>\n",
              "      <td>0</td>\n",
              "      <td>0.666667</td>\n",
              "      <td>5</td>\n",
              "      <td>0.0</td>\n",
              "      <td>0.666667</td>\n",
              "      <td>74.333333</td>\n",
              "      <td>64.000000</td>\n",
              "      <td>0.000000</td>\n",
              "      <td>1.000000</td>\n",
              "      <td>0.000000</td>\n",
              "      <td>...</td>\n",
              "      <td>265.938000</td>\n",
              "      <td>281.013000</td>\n",
              "      <td>269.338615</td>\n",
              "      <td>269.338615</td>\n",
              "      <td>281.013000</td>\n",
              "      <td>269.338615</td>\n",
              "      <td>274.254667</td>\n",
              "      <td>265.938000</td>\n",
              "      <td>265.938000</td>\n",
              "      <td>6715.666667</td>\n",
              "    </tr>\n",
              "    <tr>\n",
              "      <th>2015-01-01 06:00:00</th>\n",
              "      <td>1</td>\n",
              "      <td>0.333333</td>\n",
              "      <td>1</td>\n",
              "      <td>0.0</td>\n",
              "      <td>1.666667</td>\n",
              "      <td>78.333333</td>\n",
              "      <td>64.666667</td>\n",
              "      <td>0.000000</td>\n",
              "      <td>1.000000</td>\n",
              "      <td>0.000000</td>\n",
              "      <td>...</td>\n",
              "      <td>266.386667</td>\n",
              "      <td>280.561667</td>\n",
              "      <td>270.376000</td>\n",
              "      <td>270.376000</td>\n",
              "      <td>280.561667</td>\n",
              "      <td>270.376000</td>\n",
              "      <td>274.945000</td>\n",
              "      <td>266.386667</td>\n",
              "      <td>266.386667</td>\n",
              "      <td>4171.666667</td>\n",
              "    </tr>\n",
              "    <tr>\n",
              "      <th>2015-01-01 09:00:00</th>\n",
              "      <td>2</td>\n",
              "      <td>1.000000</td>\n",
              "      <td>9</td>\n",
              "      <td>0.0</td>\n",
              "      <td>1.000000</td>\n",
              "      <td>71.333333</td>\n",
              "      <td>64.333333</td>\n",
              "      <td>0.000000</td>\n",
              "      <td>1.000000</td>\n",
              "      <td>0.000000</td>\n",
              "      <td>...</td>\n",
              "      <td>272.708667</td>\n",
              "      <td>281.583667</td>\n",
              "      <td>275.027229</td>\n",
              "      <td>275.027229</td>\n",
              "      <td>281.583667</td>\n",
              "      <td>275.027229</td>\n",
              "      <td>278.792000</td>\n",
              "      <td>272.708667</td>\n",
              "      <td>272.708667</td>\n",
              "      <td>4274.666667</td>\n",
              "    </tr>\n",
              "    <tr>\n",
              "      <th>2015-01-01 12:00:00</th>\n",
              "      <td>3</td>\n",
              "      <td>1.000000</td>\n",
              "      <td>8</td>\n",
              "      <td>0.0</td>\n",
              "      <td>1.000000</td>\n",
              "      <td>65.333333</td>\n",
              "      <td>56.333333</td>\n",
              "      <td>0.000000</td>\n",
              "      <td>1.000000</td>\n",
              "      <td>0.000000</td>\n",
              "      <td>...</td>\n",
              "      <td>281.895219</td>\n",
              "      <td>283.434104</td>\n",
              "      <td>281.135063</td>\n",
              "      <td>281.135063</td>\n",
              "      <td>283.434104</td>\n",
              "      <td>281.135063</td>\n",
              "      <td>285.394000</td>\n",
              "      <td>281.895219</td>\n",
              "      <td>281.895219</td>\n",
              "      <td>5075.666667</td>\n",
              "    </tr>\n",
              "    <tr>\n",
              "      <th>2015-01-01 15:00:00</th>\n",
              "      <td>4</td>\n",
              "      <td>1.000000</td>\n",
              "      <td>7</td>\n",
              "      <td>0.0</td>\n",
              "      <td>1.000000</td>\n",
              "      <td>59.000000</td>\n",
              "      <td>57.000000</td>\n",
              "      <td>2.000000</td>\n",
              "      <td>0.333333</td>\n",
              "      <td>0.000000</td>\n",
              "      <td>...</td>\n",
              "      <td>280.678437</td>\n",
              "      <td>284.213167</td>\n",
              "      <td>282.252063</td>\n",
              "      <td>282.252063</td>\n",
              "      <td>284.213167</td>\n",
              "      <td>282.252063</td>\n",
              "      <td>285.513719</td>\n",
              "      <td>280.678437</td>\n",
              "      <td>280.678437</td>\n",
              "      <td>6620.666667</td>\n",
              "    </tr>\n",
              "    <tr>\n",
              "      <th>...</th>\n",
              "      <td>...</td>\n",
              "      <td>...</td>\n",
              "      <td>...</td>\n",
              "      <td>...</td>\n",
              "      <td>...</td>\n",
              "      <td>...</td>\n",
              "      <td>...</td>\n",
              "      <td>...</td>\n",
              "      <td>...</td>\n",
              "      <td>...</td>\n",
              "      <td>...</td>\n",
              "      <td>...</td>\n",
              "      <td>...</td>\n",
              "      <td>...</td>\n",
              "      <td>...</td>\n",
              "      <td>...</td>\n",
              "      <td>...</td>\n",
              "      <td>...</td>\n",
              "      <td>...</td>\n",
              "      <td>...</td>\n",
              "      <td>...</td>\n",
              "    </tr>\n",
              "    <tr>\n",
              "      <th>2017-12-31 09:00:00</th>\n",
              "      <td>8758</td>\n",
              "      <td>1.000000</td>\n",
              "      <td>6</td>\n",
              "      <td>0.0</td>\n",
              "      <td>2.666667</td>\n",
              "      <td>89.000000</td>\n",
              "      <td>95.666667</td>\n",
              "      <td>56.666667</td>\n",
              "      <td>4.333333</td>\n",
              "      <td>80.000000</td>\n",
              "      <td>...</td>\n",
              "      <td>280.816667</td>\n",
              "      <td>281.276667</td>\n",
              "      <td>285.150000</td>\n",
              "      <td>287.573333</td>\n",
              "      <td>280.483333</td>\n",
              "      <td>290.150000</td>\n",
              "      <td>284.816667</td>\n",
              "      <td>279.686667</td>\n",
              "      <td>278.483333</td>\n",
              "      <td>-28.333333</td>\n",
              "    </tr>\n",
              "    <tr>\n",
              "      <th>2017-12-31 12:00:00</th>\n",
              "      <td>8759</td>\n",
              "      <td>5.000000</td>\n",
              "      <td>6</td>\n",
              "      <td>0.0</td>\n",
              "      <td>2.000000</td>\n",
              "      <td>82.000000</td>\n",
              "      <td>85.000000</td>\n",
              "      <td>26.666667</td>\n",
              "      <td>8.000000</td>\n",
              "      <td>75.000000</td>\n",
              "      <td>...</td>\n",
              "      <td>283.483333</td>\n",
              "      <td>287.483333</td>\n",
              "      <td>286.483333</td>\n",
              "      <td>288.616667</td>\n",
              "      <td>287.150000</td>\n",
              "      <td>291.150000</td>\n",
              "      <td>287.150000</td>\n",
              "      <td>282.400000</td>\n",
              "      <td>280.150000</td>\n",
              "      <td>2266.666667</td>\n",
              "    </tr>\n",
              "    <tr>\n",
              "      <th>2017-12-31 15:00:00</th>\n",
              "      <td>8760</td>\n",
              "      <td>6.333333</td>\n",
              "      <td>9</td>\n",
              "      <td>0.4</td>\n",
              "      <td>7.333333</td>\n",
              "      <td>67.666667</td>\n",
              "      <td>71.000000</td>\n",
              "      <td>63.333333</td>\n",
              "      <td>8.333333</td>\n",
              "      <td>33.333333</td>\n",
              "      <td>...</td>\n",
              "      <td>285.150000</td>\n",
              "      <td>289.816667</td>\n",
              "      <td>283.816667</td>\n",
              "      <td>285.330000</td>\n",
              "      <td>289.150000</td>\n",
              "      <td>286.816667</td>\n",
              "      <td>289.150000</td>\n",
              "      <td>283.956667</td>\n",
              "      <td>281.150000</td>\n",
              "      <td>822.000000</td>\n",
              "    </tr>\n",
              "    <tr>\n",
              "      <th>2017-12-31 18:00:00</th>\n",
              "      <td>8761</td>\n",
              "      <td>7.333333</td>\n",
              "      <td>8</td>\n",
              "      <td>0.2</td>\n",
              "      <td>7.333333</td>\n",
              "      <td>67.666667</td>\n",
              "      <td>79.000000</td>\n",
              "      <td>63.333333</td>\n",
              "      <td>2.666667</td>\n",
              "      <td>51.666667</td>\n",
              "      <td>...</td>\n",
              "      <td>283.483333</td>\n",
              "      <td>287.523333</td>\n",
              "      <td>278.816667</td>\n",
              "      <td>281.410000</td>\n",
              "      <td>286.816667</td>\n",
              "      <td>284.150000</td>\n",
              "      <td>289.150000</td>\n",
              "      <td>282.666667</td>\n",
              "      <td>280.816667</td>\n",
              "      <td>-760.000000</td>\n",
              "    </tr>\n",
              "    <tr>\n",
              "      <th>2017-12-31 21:00:00</th>\n",
              "      <td>8762</td>\n",
              "      <td>4.333333</td>\n",
              "      <td>9</td>\n",
              "      <td>0.0</td>\n",
              "      <td>7.000000</td>\n",
              "      <td>78.666667</td>\n",
              "      <td>68.666667</td>\n",
              "      <td>20.000000</td>\n",
              "      <td>1.666667</td>\n",
              "      <td>33.333333</td>\n",
              "      <td>...</td>\n",
              "      <td>282.150000</td>\n",
              "      <td>287.483333</td>\n",
              "      <td>276.816667</td>\n",
              "      <td>281.020000</td>\n",
              "      <td>287.150000</td>\n",
              "      <td>285.150000</td>\n",
              "      <td>287.483333</td>\n",
              "      <td>281.396667</td>\n",
              "      <td>280.483333</td>\n",
              "      <td>2780.666667</td>\n",
              "    </tr>\n",
              "  </tbody>\n",
              "</table>\n",
              "<p>8763 rows × 47 columns</p>\n",
              "</div>\n",
              "      <button class=\"colab-df-convert\" onclick=\"convertToInteractive('df-9d397cdd-f195-4d4c-9daa-6d9fc23c4898')\"\n",
              "              title=\"Convert this dataframe to an interactive table.\"\n",
              "              style=\"display:none;\">\n",
              "        \n",
              "  <svg xmlns=\"http://www.w3.org/2000/svg\" height=\"24px\"viewBox=\"0 0 24 24\"\n",
              "       width=\"24px\">\n",
              "    <path d=\"M0 0h24v24H0V0z\" fill=\"none\"/>\n",
              "    <path d=\"M18.56 5.44l.94 2.06.94-2.06 2.06-.94-2.06-.94-.94-2.06-.94 2.06-2.06.94zm-11 1L8.5 8.5l.94-2.06 2.06-.94-2.06-.94L8.5 2.5l-.94 2.06-2.06.94zm10 10l.94 2.06.94-2.06 2.06-.94-2.06-.94-.94-2.06-.94 2.06-2.06.94z\"/><path d=\"M17.41 7.96l-1.37-1.37c-.4-.4-.92-.59-1.43-.59-.52 0-1.04.2-1.43.59L10.3 9.45l-7.72 7.72c-.78.78-.78 2.05 0 2.83L4 21.41c.39.39.9.59 1.41.59.51 0 1.02-.2 1.41-.59l7.78-7.78 2.81-2.81c.8-.78.8-2.07 0-2.86zM5.41 20L4 18.59l7.72-7.72 1.47 1.35L5.41 20z\"/>\n",
              "  </svg>\n",
              "      </button>\n",
              "      \n",
              "  <style>\n",
              "    .colab-df-container {\n",
              "      display:flex;\n",
              "      flex-wrap:wrap;\n",
              "      gap: 12px;\n",
              "    }\n",
              "\n",
              "    .colab-df-convert {\n",
              "      background-color: #E8F0FE;\n",
              "      border: none;\n",
              "      border-radius: 50%;\n",
              "      cursor: pointer;\n",
              "      display: none;\n",
              "      fill: #1967D2;\n",
              "      height: 32px;\n",
              "      padding: 0 0 0 0;\n",
              "      width: 32px;\n",
              "    }\n",
              "\n",
              "    .colab-df-convert:hover {\n",
              "      background-color: #E2EBFA;\n",
              "      box-shadow: 0px 1px 2px rgba(60, 64, 67, 0.3), 0px 1px 3px 1px rgba(60, 64, 67, 0.15);\n",
              "      fill: #174EA6;\n",
              "    }\n",
              "\n",
              "    [theme=dark] .colab-df-convert {\n",
              "      background-color: #3B4455;\n",
              "      fill: #D2E3FC;\n",
              "    }\n",
              "\n",
              "    [theme=dark] .colab-df-convert:hover {\n",
              "      background-color: #434B5C;\n",
              "      box-shadow: 0px 1px 3px 1px rgba(0, 0, 0, 0.15);\n",
              "      filter: drop-shadow(0px 1px 2px rgba(0, 0, 0, 0.3));\n",
              "      fill: #FFFFFF;\n",
              "    }\n",
              "  </style>\n",
              "\n",
              "      <script>\n",
              "        const buttonEl =\n",
              "          document.querySelector('#df-9d397cdd-f195-4d4c-9daa-6d9fc23c4898 button.colab-df-convert');\n",
              "        buttonEl.style.display =\n",
              "          google.colab.kernel.accessAllowed ? 'block' : 'none';\n",
              "\n",
              "        async function convertToInteractive(key) {\n",
              "          const element = document.querySelector('#df-9d397cdd-f195-4d4c-9daa-6d9fc23c4898');\n",
              "          const dataTable =\n",
              "            await google.colab.kernel.invokeFunction('convertToInteractive',\n",
              "                                                     [key], {});\n",
              "          if (!dataTable) return;\n",
              "\n",
              "          const docLinkHtml = 'Like what you see? Visit the ' +\n",
              "            '<a target=\"_blank\" href=https://colab.research.google.com/notebooks/data_table.ipynb>data table notebook</a>'\n",
              "            + ' to learn more about interactive tables.';\n",
              "          element.innerHTML = '';\n",
              "          dataTable['output_type'] = 'display_data';\n",
              "          await google.colab.output.renderOutput(dataTable, element);\n",
              "          const docLink = document.createElement('div');\n",
              "          docLink.innerHTML = docLinkHtml;\n",
              "          element.appendChild(docLink);\n",
              "        }\n",
              "      </script>\n",
              "    </div>\n",
              "  </div>\n",
              "  "
            ]
          },
          "metadata": {},
          "execution_count": 31
        }
      ]
    },
    {
      "cell_type": "markdown",
      "source": [
        "**5. Métodos Supervisados**\n",
        "\n",
        "**5.1. Selección de Modelos**"
      ],
      "metadata": {
        "id": "qj9c9JGN-ym4"
      }
    },
    {
      "cell_type": "code",
      "source": [
        "#Función para reportar el error del modelo\n",
        "def report_cv_score(z):\n",
        "    \n",
        "    #RMSE en prueba y entrenamiento\n",
        "    lr_ts_score = z['test_score']*(-1)\n",
        "    lr_tr_score = z['train_score']*(-1)\n",
        "    lin_rmse_ts = np.sqrt(lr_ts_score)\n",
        "    lin_rmse_tr = np.sqrt(lr_tr_score)\n",
        "    print(\"RMSLE Test: \", \"{:.5f}\".format(np.mean(lin_rmse_ts)), \"(±\", \"{:.8f}\".format(np.std(lin_rmse_ts)),\")\")\n",
        "    print(\"RMSLE Train: \", \"{:.5f}\".format(np.mean(lin_rmse_tr)), \"(±\", \"{:.8f}\".format(np.std(lin_rmse_tr)),\")\")"
      ],
      "metadata": {
        "id": "_FUWd_mH_I_a"
      },
      "execution_count": 32,
      "outputs": []
    },
    {
      "cell_type": "code",
      "source": [
        "#Función para calcular el RMSLE de los modelos implementados\n",
        "def RMSLE(y_actual, y_pred):\n",
        "    \n",
        "    return np.sqrt(mean_squared_error(y_actual, y_pred))"
      ],
      "metadata": {
        "id": "TLi9WbUf_Nj1"
      },
      "execution_count": 33,
      "outputs": []
    },
    {
      "cell_type": "code",
      "source": [
        "X = dfi.drop(['load_shortfall_3h'],axis = 1)\n",
        "y = dfi['load_shortfall_3h'].values"
      ],
      "metadata": {
        "id": "C-cjo0zd_PGc"
      },
      "execution_count": 34,
      "outputs": []
    },
    {
      "cell_type": "code",
      "source": [
        "#--------Partición de los datos------------\n",
        "\n",
        "from sklearn.model_selection import train_test_split\n",
        "\n",
        "test_size = 0.3\n",
        "val_size  = test_size/(1-test_size) # Elementos de validación\n",
        "\n",
        "\n",
        "print (X.shape, y.shape)\n",
        "print (\"test size %.2f\"%test_size)\n",
        "print (\"val size is %.2f (relative to %.2f) \"%(val_size, 1-test_size))\n",
        "\n",
        "#Xtv, ytv son los datos que se usan para entrenar el modelo\n",
        "#Xts, yts son los datos que se usan para probar el modelo (solo se usan para el testeo final de los modelos que se seleccionen)\n",
        "Xtv, Xts, ytv, yts = train_test_split(X, y, test_size=test_size)\n",
        "print (Xtv.shape, Xts.shape)"
      ],
      "metadata": {
        "colab": {
          "base_uri": "https://localhost:8080/"
        },
        "id": "IA-wqYqd_tPe",
        "outputId": "ec624595-ab82-4533-f59d-1727d795c7a1"
      },
      "execution_count": 35,
      "outputs": [
        {
          "output_type": "stream",
          "name": "stdout",
          "text": [
            "(8763, 46) (8763,)\n",
            "test size 0.30\n",
            "val size is 0.43 (relative to 0.70) \n",
            "(6134, 46) (2629, 46)\n"
          ]
        }
      ]
    },
    {
      "cell_type": "code",
      "source": [
        "estimator1 = LinearRegression()\n",
        "estimator2 = DecisionTreeRegressor(max_depth=5)\n",
        "estimator3 = RandomForestRegressor(n_estimators = 2,max_depth = 5)"
      ],
      "metadata": {
        "id": "P5GlkQg-_2Cw"
      },
      "execution_count": 36,
      "outputs": []
    },
    {
      "cell_type": "code",
      "source": [
        "#Selección de modelos\n",
        "\n",
        "zscores = []\n",
        "estimators = [estimator1, estimator2, estimator3]\n",
        "for estimator in estimators:\n",
        "    print(\"---------\")\n",
        "    z = cross_validate(estimator, Xtv, ytv, return_train_score=True, return_estimator=False,\n",
        "                       scoring=\"neg_mean_squared_error\", cv=ShuffleSplit(n_splits=10, test_size=val_size))\n",
        "    report_cv_score(z)\n",
        "    zscores.append(np.mean(np.sqrt(z['test_score']*(-1))))\n",
        "best = np.argmin(zscores)\n",
        "print (\"Seleccionado: \", best)\n",
        "best_estimator = estimators[best]\n",
        "print (\"\\n Mejor modelo: \")\n",
        "print (best_estimator)"
      ],
      "metadata": {
        "colab": {
          "base_uri": "https://localhost:8080/"
        },
        "id": "yjLKVAwP_88Y",
        "outputId": "a638eec2-9627-4164-baa6-4bf9321a4e1d"
      },
      "execution_count": 37,
      "outputs": [
        {
          "output_type": "stream",
          "name": "stdout",
          "text": [
            "---------\n",
            "RMSLE Test:  4803.64667 (± 40.82575209 )\n",
            "RMSLE Train:  4759.62979 (± 30.29317159 )\n",
            "---------\n",
            "RMSLE Test:  4761.83359 (± 58.10567674 )\n",
            "RMSLE Train:  4516.48133 (± 87.81361533 )\n",
            "---------\n",
            "RMSLE Test:  4705.94762 (± 71.68255348 )\n",
            "RMSLE Train:  4453.44296 (± 50.00868987 )\n",
            "Seleccionado:  2\n",
            "\n",
            " Mejor modelo: \n",
            "RandomForestRegressor(max_depth=5, n_estimators=2)\n"
          ]
        }
      ]
    },
    {
      "cell_type": "markdown",
      "source": [
        "**Comentarios:**\n",
        "\n",
        "El modelo que dió mejor rendimiento fué el RandomForestRegressor.\n"
      ],
      "metadata": {
        "id": "mni1RGQ8AHe8"
      }
    },
    {
      "cell_type": "code",
      "source": [
        "from sklearn.model_selection import GridSearchCV"
      ],
      "metadata": {
        "id": "sVZGVyx1Ad4_"
      },
      "execution_count": 38,
      "outputs": []
    },
    {
      "cell_type": "code",
      "source": [
        "#Esta celda toma un tiempo considerable en completarse\n",
        "parametros = { 'n_estimators': [5,10,15],\n",
        "              'max_depth':[5,7,9]}\n",
        "\n",
        "forest_reg = GridSearchCV(estimator = estimator3,\n",
        "                        param_grid = parametros,\n",
        "                        cv = ShuffleSplit(n_splits= 5, test_size=val_size), \n",
        "                        scoring = 'neg_mean_squared_error',\n",
        "                        verbose = 1,\n",
        "                        return_train_score = True,\n",
        "                        n_jobs = -1)\n",
        "forest_reg.fit(Xtv, ytv)"
      ],
      "metadata": {
        "colab": {
          "base_uri": "https://localhost:8080/"
        },
        "id": "V0WwcWG-BHNn",
        "outputId": "5f59da53-1610-4a2e-ebc0-a5b946c41a42"
      },
      "execution_count": 39,
      "outputs": [
        {
          "output_type": "stream",
          "name": "stdout",
          "text": [
            "Fitting 5 folds for each of 9 candidates, totalling 45 fits\n"
          ]
        },
        {
          "output_type": "execute_result",
          "data": {
            "text/plain": [
              "GridSearchCV(cv=ShuffleSplit(n_splits=5, random_state=None, test_size=0.4285714285714286,\n",
              "       train_size=None),\n",
              "             estimator=RandomForestRegressor(max_depth=5, n_estimators=2),\n",
              "             n_jobs=-1,\n",
              "             param_grid={'max_depth': [5, 7, 9], 'n_estimators': [5, 10, 15]},\n",
              "             return_train_score=True, scoring='neg_mean_squared_error',\n",
              "             verbose=1)"
            ]
          },
          "metadata": {},
          "execution_count": 39
        }
      ]
    },
    {
      "cell_type": "code",
      "source": [
        "print(\"Mejor estimador Random Forest: \",forest_reg.best_estimator_)\n",
        "print(\"Mejores parámetros para el estimador Random Forest: \", forest_reg.best_params_)"
      ],
      "metadata": {
        "colab": {
          "base_uri": "https://localhost:8080/"
        },
        "id": "v-63ZLg8DTnb",
        "outputId": "e95e323e-6028-401a-96e5-591ee7ec6588"
      },
      "execution_count": 40,
      "outputs": [
        {
          "output_type": "stream",
          "name": "stdout",
          "text": [
            "Mejor estimador Random Forest:  RandomForestRegressor(max_depth=9, n_estimators=15)\n",
            "Mejores parámetros para el estimador Random Forest:  {'max_depth': 9, 'n_estimators': 15}\n"
          ]
        }
      ]
    },
    {
      "cell_type": "markdown",
      "source": [
        "**Implementación del mejor RandomForest**"
      ],
      "metadata": {
        "id": "Rh655R0FDcp8"
      }
    },
    {
      "cell_type": "code",
      "source": [
        "Rdm_forest = RandomForestRegressor(n_estimators = 5,max_depth = 9)\n",
        "Rdm_forest.fit(Xtv, ytv)"
      ],
      "metadata": {
        "colab": {
          "base_uri": "https://localhost:8080/"
        },
        "id": "DVRbY0DyDhM0",
        "outputId": "b3fec180-55b6-4c45-949e-ac5fa578cfca"
      },
      "execution_count": 41,
      "outputs": [
        {
          "output_type": "execute_result",
          "data": {
            "text/plain": [
              "RandomForestRegressor(max_depth=9, n_estimators=5)"
            ]
          },
          "metadata": {},
          "execution_count": 41
        }
      ]
    },
    {
      "cell_type": "code",
      "source": [
        "#Desempeño del modelo Random Forest seleccionado\n",
        "\n",
        "print('RMSLE del Random Forest en entrenamiento: ',\"{:.5f}\".format(RMSLE((ytv) , (Rdm_forest.predict(Xtv)))))\n",
        "print('RMSLE del Random Forest seleccionado: ',\"{:.5f}\".format(RMSLE(yts , Rdm_forest.predict(Xts))))"
      ],
      "metadata": {
        "colab": {
          "base_uri": "https://localhost:8080/"
        },
        "id": "3j2ZvAkfDnr0",
        "outputId": "3bdcd11c-59b7-4d9b-9603-acf034aa4eeb"
      },
      "execution_count": 42,
      "outputs": [
        {
          "output_type": "stream",
          "name": "stdout",
          "text": [
            "RMSLE del Random Forest en entrenamiento:  3500.40692\n",
            "RMSLE del Random Forest seleccionado:  4361.62755\n"
          ]
        }
      ]
    },
    {
      "cell_type": "markdown",
      "source": [
        "**6. Métodos no supervisados**\n",
        "\n",
        "**6.1. PCA**"
      ],
      "metadata": {
        "id": "jpSKgfa5DxIp"
      }
    },
    {
      "cell_type": "code",
      "source": [
        "dfi.head()"
      ],
      "metadata": {
        "colab": {
          "base_uri": "https://localhost:8080/",
          "height": 522
        },
        "id": "TBjJo8vhD5pK",
        "outputId": "9e43db75-c510-4b15-eeb4-017098bb0c67"
      },
      "execution_count": 43,
      "outputs": [
        {
          "output_type": "execute_result",
          "data": {
            "text/plain": [
              "                     Unnamed: 0  Madrid_wind_speed  Valencia_wind_deg  \\\n",
              "time                                                                    \n",
              "2015-01-01 03:00:00           0           0.666667                  5   \n",
              "2015-01-01 06:00:00           1           0.333333                  1   \n",
              "2015-01-01 09:00:00           2           1.000000                  9   \n",
              "2015-01-01 12:00:00           3           1.000000                  8   \n",
              "2015-01-01 15:00:00           4           1.000000                  7   \n",
              "\n",
              "                     Bilbao_rain_1h  Valencia_wind_speed  Seville_humidity  \\\n",
              "time                                                                         \n",
              "2015-01-01 03:00:00             0.0             0.666667         74.333333   \n",
              "2015-01-01 06:00:00             0.0             1.666667         78.333333   \n",
              "2015-01-01 09:00:00             0.0             1.000000         71.333333   \n",
              "2015-01-01 12:00:00             0.0             1.000000         65.333333   \n",
              "2015-01-01 15:00:00             0.0             1.000000         59.000000   \n",
              "\n",
              "                     Madrid_humidity  Bilbao_clouds_all  Bilbao_wind_speed  \\\n",
              "time                                                                         \n",
              "2015-01-01 03:00:00        64.000000                0.0           1.000000   \n",
              "2015-01-01 06:00:00        64.666667                0.0           1.000000   \n",
              "2015-01-01 09:00:00        64.333333                0.0           1.000000   \n",
              "2015-01-01 12:00:00        56.333333                0.0           1.000000   \n",
              "2015-01-01 15:00:00        57.000000                2.0           0.333333   \n",
              "\n",
              "                     Seville_clouds_all  ...  Madrid_temp_max  Barcelona_temp  \\\n",
              "time                                     ...                                    \n",
              "2015-01-01 03:00:00                 0.0  ...       265.938000      281.013000   \n",
              "2015-01-01 06:00:00                 0.0  ...       266.386667      280.561667   \n",
              "2015-01-01 09:00:00                 0.0  ...       272.708667      281.583667   \n",
              "2015-01-01 12:00:00                 0.0  ...       281.895219      283.434104   \n",
              "2015-01-01 15:00:00                 0.0  ...       280.678437      284.213167   \n",
              "\n",
              "                     Bilbao_temp_min  Bilbao_temp  Barcelona_temp_min  \\\n",
              "time                                                                    \n",
              "2015-01-01 03:00:00       269.338615   269.338615          281.013000   \n",
              "2015-01-01 06:00:00       270.376000   270.376000          280.561667   \n",
              "2015-01-01 09:00:00       275.027229   275.027229          281.583667   \n",
              "2015-01-01 12:00:00       281.135063   281.135063          283.434104   \n",
              "2015-01-01 15:00:00       282.252063   282.252063          284.213167   \n",
              "\n",
              "                     Bilbao_temp_max  Seville_temp_min  Madrid_temp  \\\n",
              "time                                                                  \n",
              "2015-01-01 03:00:00       269.338615        274.254667   265.938000   \n",
              "2015-01-01 06:00:00       270.376000        274.945000   266.386667   \n",
              "2015-01-01 09:00:00       275.027229        278.792000   272.708667   \n",
              "2015-01-01 12:00:00       281.135063        285.394000   281.895219   \n",
              "2015-01-01 15:00:00       282.252063        285.513719   280.678437   \n",
              "\n",
              "                     Madrid_temp_min  load_shortfall_3h  \n",
              "time                                                     \n",
              "2015-01-01 03:00:00       265.938000        6715.666667  \n",
              "2015-01-01 06:00:00       266.386667        4171.666667  \n",
              "2015-01-01 09:00:00       272.708667        4274.666667  \n",
              "2015-01-01 12:00:00       281.895219        5075.666667  \n",
              "2015-01-01 15:00:00       280.678437        6620.666667  \n",
              "\n",
              "[5 rows x 47 columns]"
            ],
            "text/html": [
              "\n",
              "  <div id=\"df-81dbf2db-6a62-4518-8165-2ae324083d6e\">\n",
              "    <div class=\"colab-df-container\">\n",
              "      <div>\n",
              "<style scoped>\n",
              "    .dataframe tbody tr th:only-of-type {\n",
              "        vertical-align: middle;\n",
              "    }\n",
              "\n",
              "    .dataframe tbody tr th {\n",
              "        vertical-align: top;\n",
              "    }\n",
              "\n",
              "    .dataframe thead th {\n",
              "        text-align: right;\n",
              "    }\n",
              "</style>\n",
              "<table border=\"1\" class=\"dataframe\">\n",
              "  <thead>\n",
              "    <tr style=\"text-align: right;\">\n",
              "      <th></th>\n",
              "      <th>Unnamed: 0</th>\n",
              "      <th>Madrid_wind_speed</th>\n",
              "      <th>Valencia_wind_deg</th>\n",
              "      <th>Bilbao_rain_1h</th>\n",
              "      <th>Valencia_wind_speed</th>\n",
              "      <th>Seville_humidity</th>\n",
              "      <th>Madrid_humidity</th>\n",
              "      <th>Bilbao_clouds_all</th>\n",
              "      <th>Bilbao_wind_speed</th>\n",
              "      <th>Seville_clouds_all</th>\n",
              "      <th>...</th>\n",
              "      <th>Madrid_temp_max</th>\n",
              "      <th>Barcelona_temp</th>\n",
              "      <th>Bilbao_temp_min</th>\n",
              "      <th>Bilbao_temp</th>\n",
              "      <th>Barcelona_temp_min</th>\n",
              "      <th>Bilbao_temp_max</th>\n",
              "      <th>Seville_temp_min</th>\n",
              "      <th>Madrid_temp</th>\n",
              "      <th>Madrid_temp_min</th>\n",
              "      <th>load_shortfall_3h</th>\n",
              "    </tr>\n",
              "    <tr>\n",
              "      <th>time</th>\n",
              "      <th></th>\n",
              "      <th></th>\n",
              "      <th></th>\n",
              "      <th></th>\n",
              "      <th></th>\n",
              "      <th></th>\n",
              "      <th></th>\n",
              "      <th></th>\n",
              "      <th></th>\n",
              "      <th></th>\n",
              "      <th></th>\n",
              "      <th></th>\n",
              "      <th></th>\n",
              "      <th></th>\n",
              "      <th></th>\n",
              "      <th></th>\n",
              "      <th></th>\n",
              "      <th></th>\n",
              "      <th></th>\n",
              "      <th></th>\n",
              "      <th></th>\n",
              "    </tr>\n",
              "  </thead>\n",
              "  <tbody>\n",
              "    <tr>\n",
              "      <th>2015-01-01 03:00:00</th>\n",
              "      <td>0</td>\n",
              "      <td>0.666667</td>\n",
              "      <td>5</td>\n",
              "      <td>0.0</td>\n",
              "      <td>0.666667</td>\n",
              "      <td>74.333333</td>\n",
              "      <td>64.000000</td>\n",
              "      <td>0.0</td>\n",
              "      <td>1.000000</td>\n",
              "      <td>0.0</td>\n",
              "      <td>...</td>\n",
              "      <td>265.938000</td>\n",
              "      <td>281.013000</td>\n",
              "      <td>269.338615</td>\n",
              "      <td>269.338615</td>\n",
              "      <td>281.013000</td>\n",
              "      <td>269.338615</td>\n",
              "      <td>274.254667</td>\n",
              "      <td>265.938000</td>\n",
              "      <td>265.938000</td>\n",
              "      <td>6715.666667</td>\n",
              "    </tr>\n",
              "    <tr>\n",
              "      <th>2015-01-01 06:00:00</th>\n",
              "      <td>1</td>\n",
              "      <td>0.333333</td>\n",
              "      <td>1</td>\n",
              "      <td>0.0</td>\n",
              "      <td>1.666667</td>\n",
              "      <td>78.333333</td>\n",
              "      <td>64.666667</td>\n",
              "      <td>0.0</td>\n",
              "      <td>1.000000</td>\n",
              "      <td>0.0</td>\n",
              "      <td>...</td>\n",
              "      <td>266.386667</td>\n",
              "      <td>280.561667</td>\n",
              "      <td>270.376000</td>\n",
              "      <td>270.376000</td>\n",
              "      <td>280.561667</td>\n",
              "      <td>270.376000</td>\n",
              "      <td>274.945000</td>\n",
              "      <td>266.386667</td>\n",
              "      <td>266.386667</td>\n",
              "      <td>4171.666667</td>\n",
              "    </tr>\n",
              "    <tr>\n",
              "      <th>2015-01-01 09:00:00</th>\n",
              "      <td>2</td>\n",
              "      <td>1.000000</td>\n",
              "      <td>9</td>\n",
              "      <td>0.0</td>\n",
              "      <td>1.000000</td>\n",
              "      <td>71.333333</td>\n",
              "      <td>64.333333</td>\n",
              "      <td>0.0</td>\n",
              "      <td>1.000000</td>\n",
              "      <td>0.0</td>\n",
              "      <td>...</td>\n",
              "      <td>272.708667</td>\n",
              "      <td>281.583667</td>\n",
              "      <td>275.027229</td>\n",
              "      <td>275.027229</td>\n",
              "      <td>281.583667</td>\n",
              "      <td>275.027229</td>\n",
              "      <td>278.792000</td>\n",
              "      <td>272.708667</td>\n",
              "      <td>272.708667</td>\n",
              "      <td>4274.666667</td>\n",
              "    </tr>\n",
              "    <tr>\n",
              "      <th>2015-01-01 12:00:00</th>\n",
              "      <td>3</td>\n",
              "      <td>1.000000</td>\n",
              "      <td>8</td>\n",
              "      <td>0.0</td>\n",
              "      <td>1.000000</td>\n",
              "      <td>65.333333</td>\n",
              "      <td>56.333333</td>\n",
              "      <td>0.0</td>\n",
              "      <td>1.000000</td>\n",
              "      <td>0.0</td>\n",
              "      <td>...</td>\n",
              "      <td>281.895219</td>\n",
              "      <td>283.434104</td>\n",
              "      <td>281.135063</td>\n",
              "      <td>281.135063</td>\n",
              "      <td>283.434104</td>\n",
              "      <td>281.135063</td>\n",
              "      <td>285.394000</td>\n",
              "      <td>281.895219</td>\n",
              "      <td>281.895219</td>\n",
              "      <td>5075.666667</td>\n",
              "    </tr>\n",
              "    <tr>\n",
              "      <th>2015-01-01 15:00:00</th>\n",
              "      <td>4</td>\n",
              "      <td>1.000000</td>\n",
              "      <td>7</td>\n",
              "      <td>0.0</td>\n",
              "      <td>1.000000</td>\n",
              "      <td>59.000000</td>\n",
              "      <td>57.000000</td>\n",
              "      <td>2.0</td>\n",
              "      <td>0.333333</td>\n",
              "      <td>0.0</td>\n",
              "      <td>...</td>\n",
              "      <td>280.678437</td>\n",
              "      <td>284.213167</td>\n",
              "      <td>282.252063</td>\n",
              "      <td>282.252063</td>\n",
              "      <td>284.213167</td>\n",
              "      <td>282.252063</td>\n",
              "      <td>285.513719</td>\n",
              "      <td>280.678437</td>\n",
              "      <td>280.678437</td>\n",
              "      <td>6620.666667</td>\n",
              "    </tr>\n",
              "  </tbody>\n",
              "</table>\n",
              "<p>5 rows × 47 columns</p>\n",
              "</div>\n",
              "      <button class=\"colab-df-convert\" onclick=\"convertToInteractive('df-81dbf2db-6a62-4518-8165-2ae324083d6e')\"\n",
              "              title=\"Convert this dataframe to an interactive table.\"\n",
              "              style=\"display:none;\">\n",
              "        \n",
              "  <svg xmlns=\"http://www.w3.org/2000/svg\" height=\"24px\"viewBox=\"0 0 24 24\"\n",
              "       width=\"24px\">\n",
              "    <path d=\"M0 0h24v24H0V0z\" fill=\"none\"/>\n",
              "    <path d=\"M18.56 5.44l.94 2.06.94-2.06 2.06-.94-2.06-.94-.94-2.06-.94 2.06-2.06.94zm-11 1L8.5 8.5l.94-2.06 2.06-.94-2.06-.94L8.5 2.5l-.94 2.06-2.06.94zm10 10l.94 2.06.94-2.06 2.06-.94-2.06-.94-.94-2.06-.94 2.06-2.06.94z\"/><path d=\"M17.41 7.96l-1.37-1.37c-.4-.4-.92-.59-1.43-.59-.52 0-1.04.2-1.43.59L10.3 9.45l-7.72 7.72c-.78.78-.78 2.05 0 2.83L4 21.41c.39.39.9.59 1.41.59.51 0 1.02-.2 1.41-.59l7.78-7.78 2.81-2.81c.8-.78.8-2.07 0-2.86zM5.41 20L4 18.59l7.72-7.72 1.47 1.35L5.41 20z\"/>\n",
              "  </svg>\n",
              "      </button>\n",
              "      \n",
              "  <style>\n",
              "    .colab-df-container {\n",
              "      display:flex;\n",
              "      flex-wrap:wrap;\n",
              "      gap: 12px;\n",
              "    }\n",
              "\n",
              "    .colab-df-convert {\n",
              "      background-color: #E8F0FE;\n",
              "      border: none;\n",
              "      border-radius: 50%;\n",
              "      cursor: pointer;\n",
              "      display: none;\n",
              "      fill: #1967D2;\n",
              "      height: 32px;\n",
              "      padding: 0 0 0 0;\n",
              "      width: 32px;\n",
              "    }\n",
              "\n",
              "    .colab-df-convert:hover {\n",
              "      background-color: #E2EBFA;\n",
              "      box-shadow: 0px 1px 2px rgba(60, 64, 67, 0.3), 0px 1px 3px 1px rgba(60, 64, 67, 0.15);\n",
              "      fill: #174EA6;\n",
              "    }\n",
              "\n",
              "    [theme=dark] .colab-df-convert {\n",
              "      background-color: #3B4455;\n",
              "      fill: #D2E3FC;\n",
              "    }\n",
              "\n",
              "    [theme=dark] .colab-df-convert:hover {\n",
              "      background-color: #434B5C;\n",
              "      box-shadow: 0px 1px 3px 1px rgba(0, 0, 0, 0.15);\n",
              "      filter: drop-shadow(0px 1px 2px rgba(0, 0, 0, 0.3));\n",
              "      fill: #FFFFFF;\n",
              "    }\n",
              "  </style>\n",
              "\n",
              "      <script>\n",
              "        const buttonEl =\n",
              "          document.querySelector('#df-81dbf2db-6a62-4518-8165-2ae324083d6e button.colab-df-convert');\n",
              "        buttonEl.style.display =\n",
              "          google.colab.kernel.accessAllowed ? 'block' : 'none';\n",
              "\n",
              "        async function convertToInteractive(key) {\n",
              "          const element = document.querySelector('#df-81dbf2db-6a62-4518-8165-2ae324083d6e');\n",
              "          const dataTable =\n",
              "            await google.colab.kernel.invokeFunction('convertToInteractive',\n",
              "                                                     [key], {});\n",
              "          if (!dataTable) return;\n",
              "\n",
              "          const docLinkHtml = 'Like what you see? Visit the ' +\n",
              "            '<a target=\"_blank\" href=https://colab.research.google.com/notebooks/data_table.ipynb>data table notebook</a>'\n",
              "            + ' to learn more about interactive tables.';\n",
              "          element.innerHTML = '';\n",
              "          dataTable['output_type'] = 'display_data';\n",
              "          await google.colab.output.renderOutput(dataTable, element);\n",
              "          const docLink = document.createElement('div');\n",
              "          docLink.innerHTML = docLinkHtml;\n",
              "          element.appendChild(docLink);\n",
              "        }\n",
              "      </script>\n",
              "    </div>\n",
              "  </div>\n",
              "  "
            ]
          },
          "metadata": {},
          "execution_count": 43
        }
      ]
    },
    {
      "cell_type": "code",
      "source": [
        "X = dfi.drop(['load_shortfall_3h'],axis = 1)\n",
        "y = dfi['load_shortfall_3h'].values"
      ],
      "metadata": {
        "id": "PEDSxTDYD_YE"
      },
      "execution_count": 45,
      "outputs": []
    },
    {
      "cell_type": "code",
      "source": [
        "X.head()"
      ],
      "metadata": {
        "colab": {
          "base_uri": "https://localhost:8080/",
          "height": 522
        },
        "id": "X4MA9cgkENiv",
        "outputId": "2db1b05f-7058-4e3f-fd91-81027d448d38"
      },
      "execution_count": 46,
      "outputs": [
        {
          "output_type": "execute_result",
          "data": {
            "text/plain": [
              "                     Unnamed: 0  Madrid_wind_speed  Valencia_wind_deg  \\\n",
              "time                                                                    \n",
              "2015-01-01 03:00:00           0           0.666667                  5   \n",
              "2015-01-01 06:00:00           1           0.333333                  1   \n",
              "2015-01-01 09:00:00           2           1.000000                  9   \n",
              "2015-01-01 12:00:00           3           1.000000                  8   \n",
              "2015-01-01 15:00:00           4           1.000000                  7   \n",
              "\n",
              "                     Bilbao_rain_1h  Valencia_wind_speed  Seville_humidity  \\\n",
              "time                                                                         \n",
              "2015-01-01 03:00:00             0.0             0.666667         74.333333   \n",
              "2015-01-01 06:00:00             0.0             1.666667         78.333333   \n",
              "2015-01-01 09:00:00             0.0             1.000000         71.333333   \n",
              "2015-01-01 12:00:00             0.0             1.000000         65.333333   \n",
              "2015-01-01 15:00:00             0.0             1.000000         59.000000   \n",
              "\n",
              "                     Madrid_humidity  Bilbao_clouds_all  Bilbao_wind_speed  \\\n",
              "time                                                                         \n",
              "2015-01-01 03:00:00        64.000000                0.0           1.000000   \n",
              "2015-01-01 06:00:00        64.666667                0.0           1.000000   \n",
              "2015-01-01 09:00:00        64.333333                0.0           1.000000   \n",
              "2015-01-01 12:00:00        56.333333                0.0           1.000000   \n",
              "2015-01-01 15:00:00        57.000000                2.0           0.333333   \n",
              "\n",
              "                     Seville_clouds_all  ...  Barcelona_temp_max  \\\n",
              "time                                     ...                       \n",
              "2015-01-01 03:00:00                 0.0  ...          281.013000   \n",
              "2015-01-01 06:00:00                 0.0  ...          280.561667   \n",
              "2015-01-01 09:00:00                 0.0  ...          281.583667   \n",
              "2015-01-01 12:00:00                 0.0  ...          283.434104   \n",
              "2015-01-01 15:00:00                 0.0  ...          284.213167   \n",
              "\n",
              "                     Madrid_temp_max  Barcelona_temp  Bilbao_temp_min  \\\n",
              "time                                                                    \n",
              "2015-01-01 03:00:00       265.938000      281.013000       269.338615   \n",
              "2015-01-01 06:00:00       266.386667      280.561667       270.376000   \n",
              "2015-01-01 09:00:00       272.708667      281.583667       275.027229   \n",
              "2015-01-01 12:00:00       281.895219      283.434104       281.135063   \n",
              "2015-01-01 15:00:00       280.678437      284.213167       282.252063   \n",
              "\n",
              "                     Bilbao_temp  Barcelona_temp_min  Bilbao_temp_max  \\\n",
              "time                                                                    \n",
              "2015-01-01 03:00:00   269.338615          281.013000       269.338615   \n",
              "2015-01-01 06:00:00   270.376000          280.561667       270.376000   \n",
              "2015-01-01 09:00:00   275.027229          281.583667       275.027229   \n",
              "2015-01-01 12:00:00   281.135063          283.434104       281.135063   \n",
              "2015-01-01 15:00:00   282.252063          284.213167       282.252063   \n",
              "\n",
              "                     Seville_temp_min  Madrid_temp  Madrid_temp_min  \n",
              "time                                                                 \n",
              "2015-01-01 03:00:00        274.254667   265.938000       265.938000  \n",
              "2015-01-01 06:00:00        274.945000   266.386667       266.386667  \n",
              "2015-01-01 09:00:00        278.792000   272.708667       272.708667  \n",
              "2015-01-01 12:00:00        285.394000   281.895219       281.895219  \n",
              "2015-01-01 15:00:00        285.513719   280.678437       280.678437  \n",
              "\n",
              "[5 rows x 46 columns]"
            ],
            "text/html": [
              "\n",
              "  <div id=\"df-c344e426-d50c-467c-a40f-7ce3392b21d2\">\n",
              "    <div class=\"colab-df-container\">\n",
              "      <div>\n",
              "<style scoped>\n",
              "    .dataframe tbody tr th:only-of-type {\n",
              "        vertical-align: middle;\n",
              "    }\n",
              "\n",
              "    .dataframe tbody tr th {\n",
              "        vertical-align: top;\n",
              "    }\n",
              "\n",
              "    .dataframe thead th {\n",
              "        text-align: right;\n",
              "    }\n",
              "</style>\n",
              "<table border=\"1\" class=\"dataframe\">\n",
              "  <thead>\n",
              "    <tr style=\"text-align: right;\">\n",
              "      <th></th>\n",
              "      <th>Unnamed: 0</th>\n",
              "      <th>Madrid_wind_speed</th>\n",
              "      <th>Valencia_wind_deg</th>\n",
              "      <th>Bilbao_rain_1h</th>\n",
              "      <th>Valencia_wind_speed</th>\n",
              "      <th>Seville_humidity</th>\n",
              "      <th>Madrid_humidity</th>\n",
              "      <th>Bilbao_clouds_all</th>\n",
              "      <th>Bilbao_wind_speed</th>\n",
              "      <th>Seville_clouds_all</th>\n",
              "      <th>...</th>\n",
              "      <th>Barcelona_temp_max</th>\n",
              "      <th>Madrid_temp_max</th>\n",
              "      <th>Barcelona_temp</th>\n",
              "      <th>Bilbao_temp_min</th>\n",
              "      <th>Bilbao_temp</th>\n",
              "      <th>Barcelona_temp_min</th>\n",
              "      <th>Bilbao_temp_max</th>\n",
              "      <th>Seville_temp_min</th>\n",
              "      <th>Madrid_temp</th>\n",
              "      <th>Madrid_temp_min</th>\n",
              "    </tr>\n",
              "    <tr>\n",
              "      <th>time</th>\n",
              "      <th></th>\n",
              "      <th></th>\n",
              "      <th></th>\n",
              "      <th></th>\n",
              "      <th></th>\n",
              "      <th></th>\n",
              "      <th></th>\n",
              "      <th></th>\n",
              "      <th></th>\n",
              "      <th></th>\n",
              "      <th></th>\n",
              "      <th></th>\n",
              "      <th></th>\n",
              "      <th></th>\n",
              "      <th></th>\n",
              "      <th></th>\n",
              "      <th></th>\n",
              "      <th></th>\n",
              "      <th></th>\n",
              "      <th></th>\n",
              "      <th></th>\n",
              "    </tr>\n",
              "  </thead>\n",
              "  <tbody>\n",
              "    <tr>\n",
              "      <th>2015-01-01 03:00:00</th>\n",
              "      <td>0</td>\n",
              "      <td>0.666667</td>\n",
              "      <td>5</td>\n",
              "      <td>0.0</td>\n",
              "      <td>0.666667</td>\n",
              "      <td>74.333333</td>\n",
              "      <td>64.000000</td>\n",
              "      <td>0.0</td>\n",
              "      <td>1.000000</td>\n",
              "      <td>0.0</td>\n",
              "      <td>...</td>\n",
              "      <td>281.013000</td>\n",
              "      <td>265.938000</td>\n",
              "      <td>281.013000</td>\n",
              "      <td>269.338615</td>\n",
              "      <td>269.338615</td>\n",
              "      <td>281.013000</td>\n",
              "      <td>269.338615</td>\n",
              "      <td>274.254667</td>\n",
              "      <td>265.938000</td>\n",
              "      <td>265.938000</td>\n",
              "    </tr>\n",
              "    <tr>\n",
              "      <th>2015-01-01 06:00:00</th>\n",
              "      <td>1</td>\n",
              "      <td>0.333333</td>\n",
              "      <td>1</td>\n",
              "      <td>0.0</td>\n",
              "      <td>1.666667</td>\n",
              "      <td>78.333333</td>\n",
              "      <td>64.666667</td>\n",
              "      <td>0.0</td>\n",
              "      <td>1.000000</td>\n",
              "      <td>0.0</td>\n",
              "      <td>...</td>\n",
              "      <td>280.561667</td>\n",
              "      <td>266.386667</td>\n",
              "      <td>280.561667</td>\n",
              "      <td>270.376000</td>\n",
              "      <td>270.376000</td>\n",
              "      <td>280.561667</td>\n",
              "      <td>270.376000</td>\n",
              "      <td>274.945000</td>\n",
              "      <td>266.386667</td>\n",
              "      <td>266.386667</td>\n",
              "    </tr>\n",
              "    <tr>\n",
              "      <th>2015-01-01 09:00:00</th>\n",
              "      <td>2</td>\n",
              "      <td>1.000000</td>\n",
              "      <td>9</td>\n",
              "      <td>0.0</td>\n",
              "      <td>1.000000</td>\n",
              "      <td>71.333333</td>\n",
              "      <td>64.333333</td>\n",
              "      <td>0.0</td>\n",
              "      <td>1.000000</td>\n",
              "      <td>0.0</td>\n",
              "      <td>...</td>\n",
              "      <td>281.583667</td>\n",
              "      <td>272.708667</td>\n",
              "      <td>281.583667</td>\n",
              "      <td>275.027229</td>\n",
              "      <td>275.027229</td>\n",
              "      <td>281.583667</td>\n",
              "      <td>275.027229</td>\n",
              "      <td>278.792000</td>\n",
              "      <td>272.708667</td>\n",
              "      <td>272.708667</td>\n",
              "    </tr>\n",
              "    <tr>\n",
              "      <th>2015-01-01 12:00:00</th>\n",
              "      <td>3</td>\n",
              "      <td>1.000000</td>\n",
              "      <td>8</td>\n",
              "      <td>0.0</td>\n",
              "      <td>1.000000</td>\n",
              "      <td>65.333333</td>\n",
              "      <td>56.333333</td>\n",
              "      <td>0.0</td>\n",
              "      <td>1.000000</td>\n",
              "      <td>0.0</td>\n",
              "      <td>...</td>\n",
              "      <td>283.434104</td>\n",
              "      <td>281.895219</td>\n",
              "      <td>283.434104</td>\n",
              "      <td>281.135063</td>\n",
              "      <td>281.135063</td>\n",
              "      <td>283.434104</td>\n",
              "      <td>281.135063</td>\n",
              "      <td>285.394000</td>\n",
              "      <td>281.895219</td>\n",
              "      <td>281.895219</td>\n",
              "    </tr>\n",
              "    <tr>\n",
              "      <th>2015-01-01 15:00:00</th>\n",
              "      <td>4</td>\n",
              "      <td>1.000000</td>\n",
              "      <td>7</td>\n",
              "      <td>0.0</td>\n",
              "      <td>1.000000</td>\n",
              "      <td>59.000000</td>\n",
              "      <td>57.000000</td>\n",
              "      <td>2.0</td>\n",
              "      <td>0.333333</td>\n",
              "      <td>0.0</td>\n",
              "      <td>...</td>\n",
              "      <td>284.213167</td>\n",
              "      <td>280.678437</td>\n",
              "      <td>284.213167</td>\n",
              "      <td>282.252063</td>\n",
              "      <td>282.252063</td>\n",
              "      <td>284.213167</td>\n",
              "      <td>282.252063</td>\n",
              "      <td>285.513719</td>\n",
              "      <td>280.678437</td>\n",
              "      <td>280.678437</td>\n",
              "    </tr>\n",
              "  </tbody>\n",
              "</table>\n",
              "<p>5 rows × 46 columns</p>\n",
              "</div>\n",
              "      <button class=\"colab-df-convert\" onclick=\"convertToInteractive('df-c344e426-d50c-467c-a40f-7ce3392b21d2')\"\n",
              "              title=\"Convert this dataframe to an interactive table.\"\n",
              "              style=\"display:none;\">\n",
              "        \n",
              "  <svg xmlns=\"http://www.w3.org/2000/svg\" height=\"24px\"viewBox=\"0 0 24 24\"\n",
              "       width=\"24px\">\n",
              "    <path d=\"M0 0h24v24H0V0z\" fill=\"none\"/>\n",
              "    <path d=\"M18.56 5.44l.94 2.06.94-2.06 2.06-.94-2.06-.94-.94-2.06-.94 2.06-2.06.94zm-11 1L8.5 8.5l.94-2.06 2.06-.94-2.06-.94L8.5 2.5l-.94 2.06-2.06.94zm10 10l.94 2.06.94-2.06 2.06-.94-2.06-.94-.94-2.06-.94 2.06-2.06.94z\"/><path d=\"M17.41 7.96l-1.37-1.37c-.4-.4-.92-.59-1.43-.59-.52 0-1.04.2-1.43.59L10.3 9.45l-7.72 7.72c-.78.78-.78 2.05 0 2.83L4 21.41c.39.39.9.59 1.41.59.51 0 1.02-.2 1.41-.59l7.78-7.78 2.81-2.81c.8-.78.8-2.07 0-2.86zM5.41 20L4 18.59l7.72-7.72 1.47 1.35L5.41 20z\"/>\n",
              "  </svg>\n",
              "      </button>\n",
              "      \n",
              "  <style>\n",
              "    .colab-df-container {\n",
              "      display:flex;\n",
              "      flex-wrap:wrap;\n",
              "      gap: 12px;\n",
              "    }\n",
              "\n",
              "    .colab-df-convert {\n",
              "      background-color: #E8F0FE;\n",
              "      border: none;\n",
              "      border-radius: 50%;\n",
              "      cursor: pointer;\n",
              "      display: none;\n",
              "      fill: #1967D2;\n",
              "      height: 32px;\n",
              "      padding: 0 0 0 0;\n",
              "      width: 32px;\n",
              "    }\n",
              "\n",
              "    .colab-df-convert:hover {\n",
              "      background-color: #E2EBFA;\n",
              "      box-shadow: 0px 1px 2px rgba(60, 64, 67, 0.3), 0px 1px 3px 1px rgba(60, 64, 67, 0.15);\n",
              "      fill: #174EA6;\n",
              "    }\n",
              "\n",
              "    [theme=dark] .colab-df-convert {\n",
              "      background-color: #3B4455;\n",
              "      fill: #D2E3FC;\n",
              "    }\n",
              "\n",
              "    [theme=dark] .colab-df-convert:hover {\n",
              "      background-color: #434B5C;\n",
              "      box-shadow: 0px 1px 3px 1px rgba(0, 0, 0, 0.15);\n",
              "      filter: drop-shadow(0px 1px 2px rgba(0, 0, 0, 0.3));\n",
              "      fill: #FFFFFF;\n",
              "    }\n",
              "  </style>\n",
              "\n",
              "      <script>\n",
              "        const buttonEl =\n",
              "          document.querySelector('#df-c344e426-d50c-467c-a40f-7ce3392b21d2 button.colab-df-convert');\n",
              "        buttonEl.style.display =\n",
              "          google.colab.kernel.accessAllowed ? 'block' : 'none';\n",
              "\n",
              "        async function convertToInteractive(key) {\n",
              "          const element = document.querySelector('#df-c344e426-d50c-467c-a40f-7ce3392b21d2');\n",
              "          const dataTable =\n",
              "            await google.colab.kernel.invokeFunction('convertToInteractive',\n",
              "                                                     [key], {});\n",
              "          if (!dataTable) return;\n",
              "\n",
              "          const docLinkHtml = 'Like what you see? Visit the ' +\n",
              "            '<a target=\"_blank\" href=https://colab.research.google.com/notebooks/data_table.ipynb>data table notebook</a>'\n",
              "            + ' to learn more about interactive tables.';\n",
              "          element.innerHTML = '';\n",
              "          dataTable['output_type'] = 'display_data';\n",
              "          await google.colab.output.renderOutput(dataTable, element);\n",
              "          const docLink = document.createElement('div');\n",
              "          docLink.innerHTML = docLinkHtml;\n",
              "          element.appendChild(docLink);\n",
              "        }\n",
              "      </script>\n",
              "    </div>\n",
              "  </div>\n",
              "  "
            ]
          },
          "metadata": {},
          "execution_count": 46
        }
      ]
    },
    {
      "cell_type": "code",
      "source": [
        "from sklearn.decomposition import PCA\n",
        "components = [1,3,5,7,9]\n",
        "test_size = 0.3\n",
        "val_size  = test_size/(1-test_size)\n",
        "perf = [] #desempeños de los modelos\n",
        "Rdm_forest = RandomForestRegressor(n_estimators = 5,max_depth = 9)\n",
        "for i in components:\n",
        "    pca = PCA(n_components = i)\n",
        "    X_t = pca.fit_transform(X)\n",
        "    \n",
        "    #Partición de datos\n",
        "    #Xtv, ytv son los datos que se usan para entrenar el modelo\n",
        "    #Xts, yts son los datos que se usan para probar el modelo (solo se usan para el testeo final de los modelos que se seleccionen)\n",
        "    Xtv, Xts, ytv, yts = train_test_split(X_t, y, test_size=test_size)\n",
        "    print (Xtv.shape, Xts.shape)\n",
        "    \n",
        "    Rdm_forest.fit(Xtv, ytv)\n",
        "    perf.append(RMSLE(yts , Rdm_forest.predict(Xts)))\n",
        "    print('RMSLE del modelo con ', i ,'elementos: ',\"{:.5f}\".format(RMSLE(yts , Rdm_forest.predict(Xts))))\n",
        "    print('------------')\n",
        "\n",
        "print('Mejor RMSLE: ',\"{:.5f}\".format(np.min(perf)),'  ; obtenido con ',components[np.argmin(perf)],' componentes para PCA')"
      ],
      "metadata": {
        "colab": {
          "base_uri": "https://localhost:8080/"
        },
        "id": "opH_EB1TEXFv",
        "outputId": "b217736f-4dc1-4b2b-f732-09a241fb2bc0"
      },
      "execution_count": 47,
      "outputs": [
        {
          "output_type": "stream",
          "name": "stdout",
          "text": [
            "(6134, 1) (2629, 1)\n",
            "RMSLE del modelo con  1 elementos:  5080.26334\n",
            "------------\n",
            "(6134, 3) (2629, 3)\n",
            "RMSLE del modelo con  3 elementos:  4046.81552\n",
            "------------\n",
            "(6134, 5) (2629, 5)\n",
            "RMSLE del modelo con  5 elementos:  4016.13674\n",
            "------------\n",
            "(6134, 7) (2629, 7)\n",
            "RMSLE del modelo con  7 elementos:  4110.51994\n",
            "------------\n",
            "(6134, 9) (2629, 9)\n",
            "RMSLE del modelo con  9 elementos:  4277.17437\n",
            "------------\n",
            "Mejor RMSLE:  4016.13674   ; obtenido con  5  componentes para PCA\n"
          ]
        }
      ]
    },
    {
      "cell_type": "code",
      "source": [
        "#MEJOR PCA\n",
        "pca = PCA(n_components = 5)\n",
        "X_t1 = pca.fit_transform(X)\n",
        "Xtv, Xts, ytv, yts = train_test_split(X_t1, y, test_size=test_size)\n",
        "print (Xtv.shape, Xts.shape)"
      ],
      "metadata": {
        "colab": {
          "base_uri": "https://localhost:8080/"
        },
        "id": "YLskArPHFQV3",
        "outputId": "4fce7f0e-1860-48eb-c4d6-4485faa66bc5"
      },
      "execution_count": 48,
      "outputs": [
        {
          "output_type": "stream",
          "name": "stdout",
          "text": [
            "(6134, 5) (2629, 5)\n"
          ]
        }
      ]
    },
    {
      "cell_type": "code",
      "source": [
        "#Nota: Correr esta celda toma un tiempo considerable\n",
        "parametros = { 'n_estimators': [5,10,15],\n",
        "              'max_depth':[5,7,9]}\n",
        "\n",
        "forest_reg = GridSearchCV(estimator = estimator3,\n",
        "                        param_grid = parametros,\n",
        "                        cv = ShuffleSplit(n_splits= 5, test_size=val_size), \n",
        "                        scoring = 'neg_mean_squared_error',\n",
        "                        verbose = 1,\n",
        "                        return_train_score = True,\n",
        "                        n_jobs = -1)\n",
        "forest_reg.fit(Xtv, ytv)"
      ],
      "metadata": {
        "colab": {
          "base_uri": "https://localhost:8080/"
        },
        "id": "65pk7U85FVyU",
        "outputId": "c22526e1-170e-4030-9668-0d6ed82344c6"
      },
      "execution_count": 49,
      "outputs": [
        {
          "output_type": "stream",
          "name": "stdout",
          "text": [
            "Fitting 5 folds for each of 9 candidates, totalling 45 fits\n"
          ]
        },
        {
          "output_type": "execute_result",
          "data": {
            "text/plain": [
              "GridSearchCV(cv=ShuffleSplit(n_splits=5, random_state=None, test_size=0.4285714285714286,\n",
              "       train_size=None),\n",
              "             estimator=RandomForestRegressor(max_depth=5, n_estimators=2),\n",
              "             n_jobs=-1,\n",
              "             param_grid={'max_depth': [5, 7, 9], 'n_estimators': [5, 10, 15]},\n",
              "             return_train_score=True, scoring='neg_mean_squared_error',\n",
              "             verbose=1)"
            ]
          },
          "metadata": {},
          "execution_count": 49
        }
      ]
    },
    {
      "cell_type": "code",
      "source": [
        "print(\"Mejor estimador Random Forest: \",forest_reg.best_estimator_)\n",
        "print(\"Mejores parámetros para el estimador Random Forest: \", forest_reg.best_params_)"
      ],
      "metadata": {
        "colab": {
          "base_uri": "https://localhost:8080/"
        },
        "id": "MUOjm8MEFdGw",
        "outputId": "8447f4f6-0a4f-4ffa-8104-5cd6c847d7a9"
      },
      "execution_count": 50,
      "outputs": [
        {
          "output_type": "stream",
          "name": "stdout",
          "text": [
            "Mejor estimador Random Forest:  RandomForestRegressor(max_depth=9, n_estimators=10)\n",
            "Mejores parámetros para el estimador Random Forest:  {'max_depth': 9, 'n_estimators': 10}\n"
          ]
        }
      ]
    },
    {
      "cell_type": "code",
      "source": [
        "#Mejor random forest para el PCA obtenido\n",
        "test_size = 0.3\n",
        "val_size  = test_size/(1-test_size)\n",
        "Xtv, Xts, ytv, yts = train_test_split(X_t1, y, test_size=test_size)\n",
        "print (Xtv.shape, Xts.shape)\n",
        "Rdm_forest = RandomForestRegressor(n_estimators = 15,max_depth = 9)\n",
        "Rdm_forest.fit(Xtv, ytv)"
      ],
      "metadata": {
        "colab": {
          "base_uri": "https://localhost:8080/"
        },
        "id": "z2bQkPj5Fjvw",
        "outputId": "5f1eeaac-463c-4534-f8d0-77c1038f24f2"
      },
      "execution_count": 51,
      "outputs": [
        {
          "output_type": "stream",
          "name": "stdout",
          "text": [
            "(6134, 5) (2629, 5)\n"
          ]
        },
        {
          "output_type": "execute_result",
          "data": {
            "text/plain": [
              "RandomForestRegressor(max_depth=9, n_estimators=15)"
            ]
          },
          "metadata": {},
          "execution_count": 51
        }
      ]
    },
    {
      "cell_type": "code",
      "source": [
        "#Desempeño del modelo Random Forest seleccionado\n",
        "\n",
        "print('RMSLE del Random Forest en entrenamiento: ',\"{:.5f}\".format(RMSLE((ytv) , (Rdm_forest.predict(Xtv)))))\n",
        "print('RMSLE del Random Forest seleccionado: ',\"{:.5f}\".format(RMSLE(yts , Rdm_forest.predict(Xts))))"
      ],
      "metadata": {
        "colab": {
          "base_uri": "https://localhost:8080/"
        },
        "id": "QbUq-wjEFpTs",
        "outputId": "3dd875a9-9ccb-4dc2-ef7d-51f266a9c1e5"
      },
      "execution_count": 52,
      "outputs": [
        {
          "output_type": "stream",
          "name": "stdout",
          "text": [
            "RMSLE del Random Forest en entrenamiento:  3427.68741\n",
            "RMSLE del Random Forest seleccionado:  3918.98953\n"
          ]
        }
      ]
    },
    {
      "cell_type": "markdown",
      "source": [
        "**6.2. NMF**\n",
        "\n",
        "Para aplicar este método debemos eliminar las variables que contengan valores negativos."
      ],
      "metadata": {
        "id": "fBlfC18VFyTB"
      }
    },
    {
      "cell_type": "code",
      "source": [
        "X2 = X.drop([],axis=1)"
      ],
      "metadata": {
        "id": "nIQ0L2P5HkTc"
      },
      "execution_count": 54,
      "outputs": []
    },
    {
      "cell_type": "code",
      "source": [
        "from sklearn.decomposition import NMF\n",
        "components = [1,3,5,7,9]\n",
        "test_size = 0.3\n",
        "val_size  = test_size/(1-test_size)\n",
        "perf = [] #desempeños de los modelos\n",
        "Des_tree = DecisionTreeRegressor(max_depth=15)\n",
        "for i in components:\n",
        "    nmf = NMF(n_components = i)\n",
        "    X_t = nmf.fit_transform(X2)\n",
        "    \n",
        "    #Partición de datos\n",
        "    #Xtv, ytv son los datos que se usan para entrenar el modelo\n",
        "    #Xts, yts son los datos que se usan para probar el modelo (solo se usan para el testeo final de los modelos que se seleccionen)\n",
        "    Xtv, Xts, ytv, yts = train_test_split(X_t, y, test_size=test_size)\n",
        "    print (Xtv.shape, Xts.shape)\n",
        "    \n",
        "    Des_tree.fit(Xtv, ytv)\n",
        "    perf.append(RMSLE(yts , Des_tree.predict(Xts)))\n",
        "    print('RMSLE del modelo con ', i ,'elementos: ',\"{:.5f}\".format(RMSLE(yts , Des_tree.predict(Xts))))\n",
        "    print('------------')\n",
        "\n",
        "print('Mejor RMSLE: ',\"{:.5f}\".format(np.min(perf)),'  ; obtenido con ',components[np.argmin(perf)],' componentes para PCA')"
      ],
      "metadata": {
        "colab": {
          "base_uri": "https://localhost:8080/"
        },
        "id": "XLFH63kJGAVS",
        "outputId": "45b16e44-c4b5-4502-d25f-05f3c00f598c"
      },
      "execution_count": 55,
      "outputs": [
        {
          "output_type": "stream",
          "name": "stdout",
          "text": [
            "(6134, 1) (2629, 1)\n",
            "RMSLE del modelo con  1 elementos:  5967.66546\n",
            "------------\n",
            "(6134, 3) (2629, 3)\n",
            "RMSLE del modelo con  3 elementos:  4293.85153\n",
            "------------\n",
            "(6134, 5) (2629, 5)\n",
            "RMSLE del modelo con  5 elementos:  5008.65362\n",
            "------------\n",
            "(6134, 7) (2629, 7)\n",
            "RMSLE del modelo con  7 elementos:  5317.83723\n",
            "------------\n",
            "(6134, 9) (2629, 9)\n",
            "RMSLE del modelo con  9 elementos:  5285.10819\n",
            "------------\n",
            "Mejor RMSLE:  4293.85153   ; obtenido con  3  componentes para PCA\n"
          ]
        }
      ]
    },
    {
      "cell_type": "code",
      "source": [
        "#MEJOR NMF\n",
        "nmf = NMF(n_components = 3)\n",
        "X_t2 = nmf.fit_transform(X2)\n",
        "Xtv, Xts, ytv, yts = train_test_split(X_t2, y, test_size=test_size)\n",
        "print (Xtv.shape, Xts.shape)"
      ],
      "metadata": {
        "colab": {
          "base_uri": "https://localhost:8080/"
        },
        "id": "LaR7BqO8H2H0",
        "outputId": "030c22ca-bdcd-4b8d-9e61-7ccfdc1cdfca"
      },
      "execution_count": 56,
      "outputs": [
        {
          "output_type": "stream",
          "name": "stdout",
          "text": [
            "(6134, 3) (2629, 3)\n"
          ]
        }
      ]
    },
    {
      "cell_type": "code",
      "source": [
        "#Nota: esta celda requiere de gran tiempo para completarse\n",
        "parametros = {'max_depth': [2,5,8,12,15]}\n",
        "\n",
        "\n",
        "decission_tree = GridSearchCV(estimator = estimator2,\n",
        "                        param_grid = parametros,\n",
        "                        cv = ShuffleSplit(n_splits= 5, test_size=val_size), \n",
        "                        scoring = 'neg_mean_squared_error',\n",
        "                        verbose = 1,\n",
        "                        return_train_score = True,\n",
        "                        n_jobs = -1)\n",
        "\n",
        "decission_tree.fit(Xtv, ytv)"
      ],
      "metadata": {
        "colab": {
          "base_uri": "https://localhost:8080/"
        },
        "id": "l7AYTutCH3by",
        "outputId": "ad20bf55-5c5b-4a98-c333-c5736abca999"
      },
      "execution_count": 57,
      "outputs": [
        {
          "output_type": "stream",
          "name": "stdout",
          "text": [
            "Fitting 5 folds for each of 5 candidates, totalling 25 fits\n"
          ]
        },
        {
          "output_type": "execute_result",
          "data": {
            "text/plain": [
              "GridSearchCV(cv=ShuffleSplit(n_splits=5, random_state=None, test_size=0.4285714285714286,\n",
              "       train_size=None),\n",
              "             estimator=DecisionTreeRegressor(max_depth=5), n_jobs=-1,\n",
              "             param_grid={'max_depth': [2, 5, 8, 12, 15]},\n",
              "             return_train_score=True, scoring='neg_mean_squared_error',\n",
              "             verbose=1)"
            ]
          },
          "metadata": {},
          "execution_count": 57
        }
      ]
    },
    {
      "cell_type": "code",
      "source": [
        "print(\"Mejor estimador Decision Tree: \",decission_tree.best_estimator_)\n",
        "print(\"Mejores parámetros para el estimador Decision Tree: \", decission_tree.best_params_)"
      ],
      "metadata": {
        "colab": {
          "base_uri": "https://localhost:8080/"
        },
        "id": "VbuXvJHrH-13",
        "outputId": "7470e19c-1963-4329-8a3a-4e28762fb82e"
      },
      "execution_count": 58,
      "outputs": [
        {
          "output_type": "stream",
          "name": "stdout",
          "text": [
            "Mejor estimador Decision Tree:  DecisionTreeRegressor(max_depth=8)\n",
            "Mejores parámetros para el estimador Decision Tree:  {'max_depth': 8}\n"
          ]
        }
      ]
    },
    {
      "cell_type": "code",
      "source": [
        "#Mejor Decision Tree para el NMF obtenido\n",
        "test_size = 0.3\n",
        "val_size  = test_size/(1-test_size)\n",
        "Xtv, Xts, ytv, yts = train_test_split(X_t2, y, test_size=test_size)\n",
        "print (Xtv.shape, Xts.shape)\n",
        "Des_tree = DecisionTreeRegressor(max_depth=15)\n",
        "Des_tree.fit(Xtv, ytv)"
      ],
      "metadata": {
        "colab": {
          "base_uri": "https://localhost:8080/"
        },
        "id": "GGY8X3ZYIDY_",
        "outputId": "a952d2fd-bb2e-4019-8fdd-0d41654836b8"
      },
      "execution_count": 59,
      "outputs": [
        {
          "output_type": "stream",
          "name": "stdout",
          "text": [
            "(6134, 3) (2629, 3)\n"
          ]
        },
        {
          "output_type": "execute_result",
          "data": {
            "text/plain": [
              "DecisionTreeRegressor(max_depth=15)"
            ]
          },
          "metadata": {},
          "execution_count": 59
        }
      ]
    },
    {
      "cell_type": "code",
      "source": [
        "print('RMSLE del Decision Tree en entrenamiento: ',\"{:.5f}\".format(RMSLE((ytv) , (Des_tree.predict(Xtv)))))\n",
        "print('RMSLE del Decision Tree seleccionado: ',\"{:.5f}\".format(RMSLE(yts , Des_tree.predict(Xts))))"
      ],
      "metadata": {
        "colab": {
          "base_uri": "https://localhost:8080/"
        },
        "id": "GJnYQ6NCIILt",
        "outputId": "6610b51a-dadb-4ff7-a658-7988f8ff5f0c"
      },
      "execution_count": 60,
      "outputs": [
        {
          "output_type": "stream",
          "name": "stdout",
          "text": [
            "RMSLE del Decision Tree en entrenamiento:  1786.90157\n",
            "RMSLE del Decision Tree seleccionado:  3994.96956\n"
          ]
        }
      ]
    },
    {
      "cell_type": "markdown",
      "source": [
        "**7. Curvas de aprendizaje**\n",
        "\n",
        "Usamos el módulo learnin_curve de sk.leanr.model_selection, mediante el cual al brindarle información de los tamaños del dataset, el tipo de estimador y el método de hacer los split para la metodología de cross-validation"
      ],
      "metadata": {
        "id": "WBpb-uT0IbPl"
      }
    },
    {
      "cell_type": "markdown",
      "source": [
        "**7.1. Métodos supervisados**"
      ],
      "metadata": {
        "id": "_7XVB-UZIpde"
      }
    },
    {
      "cell_type": "code",
      "source": [
        "X = dfi.drop(['load_shortfall_3h'],axis = 1)\n",
        "y = dfi['load_shortfall_3h'].values\n",
        "X = X.drop([],axis = 1)"
      ],
      "metadata": {
        "id": "ffvRhzYNIxTu"
      },
      "execution_count": 62,
      "outputs": []
    },
    {
      "cell_type": "code",
      "source": [
        "test_size = 0.3\n",
        "val_size  = test_size/(1-test_size) # Elementos de validación\n",
        "\n",
        "\n",
        "print (X.shape, y.shape)\n",
        "print (\"test size %.2f\"%test_size)\n",
        "print (\"val size is %.2f (relative to %.2f) \"%(val_size, 1-test_size))\n",
        "\n",
        "#Xtv, ytv son los datos que se usan para entrenar el modelo\n",
        "#Xts, yts son los datos que se usan para probar el modelo (solo se usan para el testeo final de los modelos que se seleccionen)\n",
        "Xtv, Xts, ytv, yts = train_test_split(X, y, test_size=test_size)\n",
        "print (Xtv.shape, Xts.shape)"
      ],
      "metadata": {
        "colab": {
          "base_uri": "https://localhost:8080/"
        },
        "id": "6lWfeEXiJEgH",
        "outputId": "e176d8df-988c-41ed-c7a4-0b22324cedb6"
      },
      "execution_count": 63,
      "outputs": [
        {
          "output_type": "stream",
          "name": "stdout",
          "text": [
            "(8763, 46) (8763,)\n",
            "test size 0.30\n",
            "val size is 0.43 (relative to 0.70) \n",
            "(6134, 46) (2629, 46)\n"
          ]
        }
      ]
    },
    {
      "cell_type": "markdown",
      "source": [
        "**7.1.1. Decision Tree**"
      ],
      "metadata": {
        "id": "EUwhvIcFJI-c"
      }
    },
    {
      "cell_type": "code",
      "source": [
        "Des_tree1 = DecisionTreeRegressor(max_depth=15)\n",
        "train_sizes, train_scores, valid_scores = learning_curve(Des_tree1, Xtv, ytv, train_sizes= [0.3, 0.5,0.7,0.9], \n",
        "                 scoring ='neg_root_mean_squared_error', cv = ShuffleSplit(n_splits=10, test_size=val_size))"
      ],
      "metadata": {
        "id": "UOOFBESWJU-v"
      },
      "execution_count": 64,
      "outputs": []
    },
    {
      "cell_type": "code",
      "source": [
        "train_scores = np.abs(train_scores)\n",
        "valid_scores = np.abs(valid_scores)\n",
        "\n",
        "train_mean = np.mean(train_scores, axis=1)\n",
        "train_std = np.std(train_scores, axis=1)\n",
        "\n",
        "valid_mean = np.mean(valid_scores, axis=1)\n",
        "valid_std = np.std(valid_scores, axis=1)\n",
        "\n",
        "plt.subplots(1, figsize=(5,5))\n",
        "plt.plot(train_sizes, train_mean, '--', color=\"r\",  label=\"Training score\")\n",
        "plt.plot(train_sizes, valid_mean, color=\"g\", label=\"Cross-validation score\")\n",
        "\n",
        "\n",
        "\n",
        "plt.grid()\n",
        "plt.title(\"Learning Curve\")\n",
        "plt.xlabel(\"Training Set Size\"), plt.ylabel(\"RMSLE\"), plt.legend(loc=\"best\")\n",
        "plt.tight_layout()\n",
        "plt.show()"
      ],
      "metadata": {
        "colab": {
          "base_uri": "https://localhost:8080/",
          "height": 369
        },
        "id": "PF3oPU2IJXJh",
        "outputId": "5163c741-285b-49d9-ecd0-ea93e15446bb"
      },
      "execution_count": 69,
      "outputs": [
        {
          "output_type": "display_data",
          "data": {
            "text/plain": [
              "<Figure size 360x360 with 1 Axes>"
            ],
            "image/png": "[encoded data removed]"
          },
          "metadata": {
            "needs_background": "light"
          }
        }
      ]
    },
    {
      "cell_type": "code",
      "source": [
        "train_mean"
      ],
      "metadata": {
        "colab": {
          "base_uri": "https://localhost:8080/"
        },
        "id": "bsChra7XKLRz",
        "outputId": "5de6242e-f581-471d-8b95-7da961d91d03"
      },
      "execution_count": 71,
      "outputs": [
        {
          "output_type": "execute_result",
          "data": {
            "text/plain": [
              "array([1018.87212721, 1178.58776434, 1387.13952932, 1658.56780649])"
            ]
          },
          "metadata": {},
          "execution_count": 71
        }
      ]
    },
    {
      "cell_type": "code",
      "source": [
        "valid_mean"
      ],
      "metadata": {
        "colab": {
          "base_uri": "https://localhost:8080/"
        },
        "id": "rZZ0pRY_KNwi",
        "outputId": "295e972c-896d-4c68-916f-996cf7c50de5"
      },
      "execution_count": 72,
      "outputs": [
        {
          "output_type": "execute_result",
          "data": {
            "text/plain": [
              "array([6235.83961326, 5997.67059665, 5779.59619748, 5509.41227232])"
            ]
          },
          "metadata": {},
          "execution_count": 72
        }
      ]
    },
    {
      "cell_type": "code",
      "source": [
        "def lc_plot(estimator,X,y):\n",
        "    train_sizes, train_scores, valid_scores = learning_curve(estimator, X, y, train_sizes= [0.3, 0.5,0.7,0.9], \n",
        "                 scoring ='neg_root_mean_squared_error', cv = ShuffleSplit(n_splits=10, test_size=val_size))\n",
        "    \n",
        "    train_scores = np.abs(train_scores)\n",
        "    valid_scores = np.abs(valid_scores)\n",
        "\n",
        "    train_mean = np.mean(train_scores, axis=1)\n",
        "    train_std = np.std(train_scores, axis=1)\n",
        "\n",
        "    valid_mean = np.mean(valid_scores, axis=1)\n",
        "    valid_std = np.std(valid_scores, axis=1)\n",
        "\n",
        "    plt.subplots(1, figsize=(5,5))\n",
        "    plt.plot(train_sizes, train_mean, '--', color=\"r\",  label=\"Training score\")\n",
        "    plt.plot(train_sizes, valid_mean, color=\"g\", label=\"Cross-validation score\")\n",
        "\n",
        "\n",
        "\n",
        "    plt.grid()\n",
        "    plt.title(\"Learning Curve\")\n",
        "    plt.xlabel(\"Training Set Size\"), plt.ylabel(\"RMSLE\"), plt.legend(loc=\"best\")\n",
        "    plt.tight_layout()\n",
        "    plt.show()\n",
        "    return plt"
      ],
      "metadata": {
        "id": "1_RiQSHwKUDQ"
      },
      "execution_count": 73,
      "outputs": []
    },
    {
      "cell_type": "markdown",
      "source": [
        "**7.1.2. Random Forest**"
      ],
      "metadata": {
        "id": "cJjwvmpsKYk6"
      }
    },
    {
      "cell_type": "code",
      "source": [
        "Rdm_forest = RandomForestRegressor(n_estimators = 5,max_depth = 9)"
      ],
      "metadata": {
        "id": "elIArpKZKcwA"
      },
      "execution_count": 74,
      "outputs": []
    },
    {
      "cell_type": "code",
      "source": [
        "lc_plot(Rdm_forest,Xtv,ytv)"
      ],
      "metadata": {
        "colab": {
          "base_uri": "https://localhost:8080/",
          "height": 386
        },
        "id": "-6dDFjECKfSN",
        "outputId": "ac368670-2378-4ea3-fdee-cd1e13662195"
      },
      "execution_count": 75,
      "outputs": [
        {
          "output_type": "display_data",
          "data": {
            "text/plain": [
              "<Figure size 360x360 with 1 Axes>"
            ],
            "image/png": "[encoded data removed]"
          },
          "metadata": {
            "needs_background": "light"
          }
        },
        {
          "output_type": "execute_result",
          "data": {
            "text/plain": [
              "<module 'matplotlib.pyplot' from '/usr/local/lib/python3.7/dist-packages/matplotlib/pyplot.py'>"
            ]
          },
          "metadata": {},
          "execution_count": 75
        }
      ]
    },
    {
      "cell_type": "markdown",
      "source": [
        "**7.2. Método no supervisado + Método supervisado**\n",
        "\n",
        "**7.2.1. PCA + Random Forest**"
      ],
      "metadata": {
        "id": "c2ftMvdmKnIT"
      }
    },
    {
      "cell_type": "code",
      "source": [
        "X = dfi.drop(['load_shortfall_3h'],axis = 1)\n",
        "y = dfi['load_shortfall_3h'].values"
      ],
      "metadata": {
        "id": "euYxdy1iKqnr"
      },
      "execution_count": 76,
      "outputs": []
    },
    {
      "cell_type": "code",
      "source": [
        "from sklearn.decomposition import PCA\n",
        "pca = PCA(n_components = 5)\n",
        "X_t1 = pca.fit_transform(X)\n",
        "test_size = 0.3\n",
        "val_size  = test_size/(1-test_size)\n",
        "Xtv, Xts, ytv, yts = train_test_split(X_t1, y, test_size=test_size)\n",
        "Rdm_forest = RandomForestRegressor(n_estimators = 15,max_depth = 9)"
      ],
      "metadata": {
        "id": "rN3AaHh1K6T_"
      },
      "execution_count": 77,
      "outputs": []
    },
    {
      "cell_type": "code",
      "source": [
        "lc_plot(Rdm_forest,Xtv,ytv)"
      ],
      "metadata": {
        "colab": {
          "base_uri": "https://localhost:8080/",
          "height": 386
        },
        "id": "A5uZr0baK9It",
        "outputId": "900fdefc-38b2-43de-b79c-7035dbffc4ea"
      },
      "execution_count": 78,
      "outputs": [
        {
          "output_type": "display_data",
          "data": {
            "text/plain": [
              "<Figure size 360x360 with 1 Axes>"
            ],
            "image/png": "[encoded data removed]"
          },
          "metadata": {
            "needs_background": "light"
          }
        },
        {
          "output_type": "execute_result",
          "data": {
            "text/plain": [
              "<module 'matplotlib.pyplot' from '/usr/local/lib/python3.7/dist-packages/matplotlib/pyplot.py'>"
            ]
          },
          "metadata": {},
          "execution_count": 78
        }
      ]
    },
    {
      "cell_type": "markdown",
      "source": [
        "**7.2.2. NMF + Decision Tree**"
      ],
      "metadata": {
        "id": "Vdu39zOyLheK"
      }
    },
    {
      "cell_type": "code",
      "source": [
        "X2 = X.drop([],axis=1)"
      ],
      "metadata": {
        "id": "UEdQ0ZmFLlRO"
      },
      "execution_count": 79,
      "outputs": []
    },
    {
      "cell_type": "code",
      "source": [
        "from sklearn.decomposition import NMF\n",
        "nmf = NMF(n_components = 3)\n",
        "X_t2 = nmf.fit_transform(X2)\n",
        "test_size = 0.3\n",
        "val_size  = test_size/(1-test_size)\n",
        "Xtv, Xts, ytv, yts = train_test_split(X_t2, y, test_size=test_size)\n",
        "Des_tree = DecisionTreeRegressor(max_depth=15)"
      ],
      "metadata": {
        "id": "hi7j9NnQLsU8"
      },
      "execution_count": 80,
      "outputs": []
    },
    {
      "cell_type": "code",
      "source": [
        "lc_plot(Des_tree,Xtv,ytv)"
      ],
      "metadata": {
        "colab": {
          "base_uri": "https://localhost:8080/",
          "height": 386
        },
        "id": "o8nTNsQ8LvPq",
        "outputId": "a7f3b917-968c-4475-b846-70d851431e7c"
      },
      "execution_count": 81,
      "outputs": [
        {
          "output_type": "display_data",
          "data": {
            "text/plain": [
              "<Figure size 360x360 with 1 Axes>"
            ],
            "image/png": "[encoded data removed]"
          },
          "metadata": {
            "needs_background": "light"
          }
        },
        {
          "output_type": "execute_result",
          "data": {
            "text/plain": [
              "<module 'matplotlib.pyplot' from '/usr/local/lib/python3.7/dist-packages/matplotlib/pyplot.py'>"
            ]
          },
          "metadata": {},
          "execution_count": 81
        }
      ]
    },
    {
      "cell_type": "code",
      "source": [
        "submission = pd.DataFrame([df.time, pd.Series(Des_tree.predict(Xts), name=\"load_shortfall_3h\")]).T\n",
        "submission.head()"
      ],
      "metadata": {
        "id": "BBuDNhwsLzyH"
      },
      "execution_count": null,
      "outputs": []
    },
    {
      "cell_type": "code",
      "source": [
        "submission.to_csv(\"Electricity_kaggle.csv\", index=False)"
      ],
      "metadata": {
        "id": "QLrN4TsFN5lU"
      },
      "execution_count": null,
      "outputs": []
    },
    {
      "cell_type": "code",
      "source": [
        "!head Electricity_kaggle.csv"
      ],
      "metadata": {
        "id": "yNgEpCrCOAhM"
      },
      "execution_count": null,
      "outputs": []
    },
    {
      "cell_type": "code",
      "source": [
        "!wc Electricity_kaggle.csv"
      ],
      "metadata": {
        "id": "SYsJ3bN2OCie"
      },
      "execution_count": null,
      "outputs": []
    }
  ]
}